{
 "cells": [
  {
   "cell_type": "markdown",
   "id": "41a3b10d",
   "metadata": {},
   "source": [
    "### Loading the Libraries"
   ]
  },
  {
   "cell_type": "code",
   "execution_count": 20,
   "id": "ff42876b",
   "metadata": {},
   "outputs": [],
   "source": [
    "import pandas as pd\n",
    "import numpy as np\n",
    "import matplotlib.pyplot as plt\n",
    "import seaborn as sns\n",
    "\n",
    "%matplotlib inline"
   ]
  },
  {
   "cell_type": "markdown",
   "id": "4043ba61",
   "metadata": {},
   "source": [
    "### Importing the dataset"
   ]
  },
  {
   "cell_type": "code",
   "execution_count": 21,
   "id": "3240cf77",
   "metadata": {},
   "outputs": [
    {
     "data": {
      "text/plain": [
       "('AER_credit_card_data.csv', <http.client.HTTPMessage at 0x1382b43ddc0>)"
      ]
     },
     "execution_count": 21,
     "metadata": {},
     "output_type": "execute_result"
    }
   ],
   "source": [
    "# https://stackoverflow.com/questions/57748687/downloading-files-in-jupyter-wget-on-windows\n",
    "import urllib.request\n",
    "url = 'https://raw.githubusercontent.com/alexeygrigorev/datasets/master/AER_credit_card_data.csv'\n",
    "filename = 'AER_credit_card_data.csv'\n",
    "urllib.request.urlretrieve(url, filename)"
   ]
  },
  {
   "cell_type": "code",
   "execution_count": 22,
   "id": "1ff83c23",
   "metadata": {},
   "outputs": [
    {
     "data": {
      "text/html": [
       "<div>\n",
       "<style scoped>\n",
       "    .dataframe tbody tr th:only-of-type {\n",
       "        vertical-align: middle;\n",
       "    }\n",
       "\n",
       "    .dataframe tbody tr th {\n",
       "        vertical-align: top;\n",
       "    }\n",
       "\n",
       "    .dataframe thead th {\n",
       "        text-align: right;\n",
       "    }\n",
       "</style>\n",
       "<table border=\"1\" class=\"dataframe\">\n",
       "  <thead>\n",
       "    <tr style=\"text-align: right;\">\n",
       "      <th></th>\n",
       "      <th>card</th>\n",
       "      <th>reports</th>\n",
       "      <th>age</th>\n",
       "      <th>income</th>\n",
       "      <th>share</th>\n",
       "      <th>expenditure</th>\n",
       "      <th>owner</th>\n",
       "      <th>selfemp</th>\n",
       "      <th>dependents</th>\n",
       "      <th>months</th>\n",
       "      <th>majorcards</th>\n",
       "      <th>active</th>\n",
       "    </tr>\n",
       "  </thead>\n",
       "  <tbody>\n",
       "    <tr>\n",
       "      <th>0</th>\n",
       "      <td>yes</td>\n",
       "      <td>0</td>\n",
       "      <td>37.66667</td>\n",
       "      <td>4.5200</td>\n",
       "      <td>0.033270</td>\n",
       "      <td>124.983300</td>\n",
       "      <td>yes</td>\n",
       "      <td>no</td>\n",
       "      <td>3</td>\n",
       "      <td>54</td>\n",
       "      <td>1</td>\n",
       "      <td>12</td>\n",
       "    </tr>\n",
       "    <tr>\n",
       "      <th>1</th>\n",
       "      <td>yes</td>\n",
       "      <td>0</td>\n",
       "      <td>33.25000</td>\n",
       "      <td>2.4200</td>\n",
       "      <td>0.005217</td>\n",
       "      <td>9.854167</td>\n",
       "      <td>no</td>\n",
       "      <td>no</td>\n",
       "      <td>3</td>\n",
       "      <td>34</td>\n",
       "      <td>1</td>\n",
       "      <td>13</td>\n",
       "    </tr>\n",
       "    <tr>\n",
       "      <th>2</th>\n",
       "      <td>yes</td>\n",
       "      <td>0</td>\n",
       "      <td>33.66667</td>\n",
       "      <td>4.5000</td>\n",
       "      <td>0.004156</td>\n",
       "      <td>15.000000</td>\n",
       "      <td>yes</td>\n",
       "      <td>no</td>\n",
       "      <td>4</td>\n",
       "      <td>58</td>\n",
       "      <td>1</td>\n",
       "      <td>5</td>\n",
       "    </tr>\n",
       "    <tr>\n",
       "      <th>3</th>\n",
       "      <td>yes</td>\n",
       "      <td>0</td>\n",
       "      <td>30.50000</td>\n",
       "      <td>2.5400</td>\n",
       "      <td>0.065214</td>\n",
       "      <td>137.869200</td>\n",
       "      <td>no</td>\n",
       "      <td>no</td>\n",
       "      <td>0</td>\n",
       "      <td>25</td>\n",
       "      <td>1</td>\n",
       "      <td>7</td>\n",
       "    </tr>\n",
       "    <tr>\n",
       "      <th>4</th>\n",
       "      <td>yes</td>\n",
       "      <td>0</td>\n",
       "      <td>32.16667</td>\n",
       "      <td>9.7867</td>\n",
       "      <td>0.067051</td>\n",
       "      <td>546.503300</td>\n",
       "      <td>yes</td>\n",
       "      <td>no</td>\n",
       "      <td>2</td>\n",
       "      <td>64</td>\n",
       "      <td>1</td>\n",
       "      <td>5</td>\n",
       "    </tr>\n",
       "  </tbody>\n",
       "</table>\n",
       "</div>"
      ],
      "text/plain": [
       "  card  reports       age  income     share  expenditure owner selfemp  \\\n",
       "0  yes        0  37.66667  4.5200  0.033270   124.983300   yes      no   \n",
       "1  yes        0  33.25000  2.4200  0.005217     9.854167    no      no   \n",
       "2  yes        0  33.66667  4.5000  0.004156    15.000000   yes      no   \n",
       "3  yes        0  30.50000  2.5400  0.065214   137.869200    no      no   \n",
       "4  yes        0  32.16667  9.7867  0.067051   546.503300   yes      no   \n",
       "\n",
       "   dependents  months  majorcards  active  \n",
       "0           3      54           1      12  \n",
       "1           3      34           1      13  \n",
       "2           4      58           1       5  \n",
       "3           0      25           1       7  \n",
       "4           2      64           1       5  "
      ]
     },
     "execution_count": 22,
     "metadata": {},
     "output_type": "execute_result"
    }
   ],
   "source": [
    "df = pd.read_csv('AER_credit_card_data.csv')\n",
    "df.head()"
   ]
  },
  {
   "cell_type": "code",
   "execution_count": 23,
   "id": "f80d9ea3",
   "metadata": {},
   "outputs": [
    {
     "data": {
      "text/plain": [
       "card            object\n",
       "reports          int64\n",
       "age            float64\n",
       "income         float64\n",
       "share          float64\n",
       "expenditure    float64\n",
       "owner           object\n",
       "selfemp         object\n",
       "dependents       int64\n",
       "months           int64\n",
       "majorcards       int64\n",
       "active           int64\n",
       "dtype: object"
      ]
     },
     "execution_count": 23,
     "metadata": {},
     "output_type": "execute_result"
    }
   ],
   "source": [
    "df.dtypes"
   ]
  },
  {
   "cell_type": "markdown",
   "id": "39fcf86d",
   "metadata": {},
   "source": [
    "### Data Preparation"
   ]
  },
  {
   "cell_type": "code",
   "execution_count": 24,
   "id": "a4e97fae",
   "metadata": {},
   "outputs": [
    {
     "data": {
      "text/html": [
       "<div>\n",
       "<style scoped>\n",
       "    .dataframe tbody tr th:only-of-type {\n",
       "        vertical-align: middle;\n",
       "    }\n",
       "\n",
       "    .dataframe tbody tr th {\n",
       "        vertical-align: top;\n",
       "    }\n",
       "\n",
       "    .dataframe thead th {\n",
       "        text-align: right;\n",
       "    }\n",
       "</style>\n",
       "<table border=\"1\" class=\"dataframe\">\n",
       "  <thead>\n",
       "    <tr style=\"text-align: right;\">\n",
       "      <th></th>\n",
       "      <th>card</th>\n",
       "      <th>reports</th>\n",
       "      <th>age</th>\n",
       "      <th>income</th>\n",
       "      <th>share</th>\n",
       "      <th>expenditure</th>\n",
       "      <th>owner</th>\n",
       "      <th>selfemp</th>\n",
       "      <th>dependents</th>\n",
       "      <th>months</th>\n",
       "      <th>majorcards</th>\n",
       "      <th>active</th>\n",
       "      <th>target</th>\n",
       "    </tr>\n",
       "  </thead>\n",
       "  <tbody>\n",
       "    <tr>\n",
       "      <th>0</th>\n",
       "      <td>yes</td>\n",
       "      <td>0</td>\n",
       "      <td>37.66667</td>\n",
       "      <td>4.5200</td>\n",
       "      <td>0.033270</td>\n",
       "      <td>124.983300</td>\n",
       "      <td>yes</td>\n",
       "      <td>no</td>\n",
       "      <td>3</td>\n",
       "      <td>54</td>\n",
       "      <td>1</td>\n",
       "      <td>12</td>\n",
       "      <td>1</td>\n",
       "    </tr>\n",
       "    <tr>\n",
       "      <th>1</th>\n",
       "      <td>yes</td>\n",
       "      <td>0</td>\n",
       "      <td>33.25000</td>\n",
       "      <td>2.4200</td>\n",
       "      <td>0.005217</td>\n",
       "      <td>9.854167</td>\n",
       "      <td>no</td>\n",
       "      <td>no</td>\n",
       "      <td>3</td>\n",
       "      <td>34</td>\n",
       "      <td>1</td>\n",
       "      <td>13</td>\n",
       "      <td>1</td>\n",
       "    </tr>\n",
       "    <tr>\n",
       "      <th>2</th>\n",
       "      <td>yes</td>\n",
       "      <td>0</td>\n",
       "      <td>33.66667</td>\n",
       "      <td>4.5000</td>\n",
       "      <td>0.004156</td>\n",
       "      <td>15.000000</td>\n",
       "      <td>yes</td>\n",
       "      <td>no</td>\n",
       "      <td>4</td>\n",
       "      <td>58</td>\n",
       "      <td>1</td>\n",
       "      <td>5</td>\n",
       "      <td>1</td>\n",
       "    </tr>\n",
       "    <tr>\n",
       "      <th>3</th>\n",
       "      <td>yes</td>\n",
       "      <td>0</td>\n",
       "      <td>30.50000</td>\n",
       "      <td>2.5400</td>\n",
       "      <td>0.065214</td>\n",
       "      <td>137.869200</td>\n",
       "      <td>no</td>\n",
       "      <td>no</td>\n",
       "      <td>0</td>\n",
       "      <td>25</td>\n",
       "      <td>1</td>\n",
       "      <td>7</td>\n",
       "      <td>1</td>\n",
       "    </tr>\n",
       "    <tr>\n",
       "      <th>4</th>\n",
       "      <td>yes</td>\n",
       "      <td>0</td>\n",
       "      <td>32.16667</td>\n",
       "      <td>9.7867</td>\n",
       "      <td>0.067051</td>\n",
       "      <td>546.503300</td>\n",
       "      <td>yes</td>\n",
       "      <td>no</td>\n",
       "      <td>2</td>\n",
       "      <td>64</td>\n",
       "      <td>1</td>\n",
       "      <td>5</td>\n",
       "      <td>1</td>\n",
       "    </tr>\n",
       "  </tbody>\n",
       "</table>\n",
       "</div>"
      ],
      "text/plain": [
       "  card  reports       age  income     share  expenditure owner selfemp  \\\n",
       "0  yes        0  37.66667  4.5200  0.033270   124.983300   yes      no   \n",
       "1  yes        0  33.25000  2.4200  0.005217     9.854167    no      no   \n",
       "2  yes        0  33.66667  4.5000  0.004156    15.000000   yes      no   \n",
       "3  yes        0  30.50000  2.5400  0.065214   137.869200    no      no   \n",
       "4  yes        0  32.16667  9.7867  0.067051   546.503300   yes      no   \n",
       "\n",
       "   dependents  months  majorcards  active  target  \n",
       "0           3      54           1      12       1  \n",
       "1           3      34           1      13       1  \n",
       "2           4      58           1       5       1  \n",
       "3           0      25           1       7       1  \n",
       "4           2      64           1       5       1  "
      ]
     },
     "execution_count": 24,
     "metadata": {},
     "output_type": "execute_result"
    }
   ],
   "source": [
    "df['target'] = (df['card'] == 'yes').astype('int')\n",
    "df.head()"
   ]
  },
  {
   "cell_type": "code",
   "execution_count": 25,
   "id": "b0ef4224",
   "metadata": {},
   "outputs": [
    {
     "name": "stdout",
     "output_type": "stream",
     "text": [
      "yes    1023\n",
      "no      296\n",
      "Name: card, dtype: int64\n",
      "1    1023\n",
      "0     296\n",
      "Name: target, dtype: int64\n"
     ]
    }
   ],
   "source": [
    "# Checking if the target column has been properly mapped\n",
    "print(df.card.value_counts())\n",
    "print(df.target.value_counts())"
   ]
  },
  {
   "cell_type": "markdown",
   "id": "a495e49c",
   "metadata": {},
   "source": [
    "### Splitting the data into train, val and test "
   ]
  },
  {
   "cell_type": "code",
   "execution_count": 26,
   "id": "fe8cb997",
   "metadata": {},
   "outputs": [
    {
     "data": {
      "text/plain": [
       "((791, 13), (264, 13), (264, 13))"
      ]
     },
     "execution_count": 26,
     "metadata": {},
     "output_type": "execute_result"
    }
   ],
   "source": [
    "from sklearn.model_selection import train_test_split\n",
    "df_full_train, df_test = train_test_split(df, test_size=0.2, random_state=1)\n",
    "df_train, df_val = train_test_split(df_full_train, test_size=0.25, random_state=1)\n",
    "df_train.shape, df_val.shape, df_test.shape"
   ]
  },
  {
   "cell_type": "code",
   "execution_count": 27,
   "id": "7f134480",
   "metadata": {},
   "outputs": [],
   "source": [
    "y_train = df_train['target'].values\n",
    "y_val = df_val['target'].values\n",
    "y_test = df_test['target'].values\n",
    "\n",
    "del df_train['target']\n",
    "del df_val['target']\n",
    "del df_test['target']"
   ]
  },
  {
   "cell_type": "markdown",
   "id": "aa5b09b1",
   "metadata": {},
   "source": [
    "### Question 1\n",
    "ROC AUC could also be used to evaluate feature importance of numerical variables.\n",
    "\n",
    "Let's do that\n",
    "\n",
    "For each numerical variable, use it as score and compute AUC with the card variable.\n",
    "Use the training dataset for that.\n",
    "If your AUC is < 0.5, invert this variable by putting \"-\" in front\n",
    "\n",
    "(e.g. -df_train['expenditure'])\n",
    "\n",
    "AUC can go below 0.5 if the variable is negatively correlated with the target varialble. You can change the direction of the correlation by negating this variable - then negative correlation becomes positive.\n",
    "\n",
    "Which numerical variable (among the following 4) has the highest AUC?\n",
    "\n",
    "* reports\n",
    "* dependents\n",
    "* active\n",
    "* share"
   ]
  },
  {
   "cell_type": "code",
   "execution_count": 28,
   "id": "5c9a6c51",
   "metadata": {},
   "outputs": [
    {
     "name": "stdout",
     "output_type": "stream",
     "text": [
      "reports : 0.7166629860689376\n",
      "dependents : 0.5327757227773791\n",
      "active : 0.6043173411362006\n",
      "share : 0.989183643423692\n"
     ]
    }
   ],
   "source": [
    "from sklearn.metrics import auc, roc_auc_score\n",
    "print(f\"reports : {roc_auc_score(df_train['card'], -df_train['reports'])}\")\n",
    "print(f\"dependents : {roc_auc_score(df_train['card'], -df_train['dependents'])}\")\n",
    "print(f\"active : {roc_auc_score(df_train['card'], df_train['active'])}\")\n",
    "print(f\"share : {roc_auc_score(df_train['card'], df_train['share'])}\")"
   ]
  },
  {
   "cell_type": "markdown",
   "id": "6188c501",
   "metadata": {},
   "source": [
    "### Answer 1 - share has the higest auc score."
   ]
  },
  {
   "cell_type": "code",
   "execution_count": 29,
   "id": "20f2acfb",
   "metadata": {},
   "outputs": [],
   "source": [
    "use_columns = [\"reports\", \"age\", \"income\", \"share\", \"expenditure\", \"dependents\", \"months\", \"majorcards\", \"active\", \"owner\", \"selfemp\"]\n"
   ]
  },
  {
   "cell_type": "markdown",
   "id": "4ecbd2b8",
   "metadata": {},
   "source": [
    "## Training the model\n",
    "From now on, use these columns only:\n",
    "\n",
    "[\"reports\", \"age\", \"income\", \"share\", \"expenditure\", \"dependents\", \"months\", \"majorcards\", \"active\", \"owner\", \"selfemp\"]\n",
    "Apply one-hot-encoding using DictVectorizer and train the logistic regression with these parameters:\n",
    "\n",
    "LogisticRegression(solver='liblinear', C=1.0, max_iter=1000)"
   ]
  },
  {
   "cell_type": "code",
   "execution_count": 30,
   "id": "74039e3d",
   "metadata": {},
   "outputs": [
    {
     "data": {
      "text/plain": [
       "LogisticRegression(max_iter=1000, solver='liblinear')"
      ]
     },
     "execution_count": 30,
     "metadata": {},
     "output_type": "execute_result"
    }
   ],
   "source": [
    "from sklearn.feature_extraction import DictVectorizer\n",
    "from sklearn.linear_model import LogisticRegression\n",
    "\n",
    "dv = DictVectorizer(sparse=False)\n",
    "model = LogisticRegression(solver='liblinear', C=1.0, max_iter=1000)\n",
    "\n",
    "train_dict = df_train[use_columns].to_dict(orient='records')\n",
    "X_train = dv.fit_transform(train_dict)\n",
    "\n",
    "model.fit(X_train, y_train)"
   ]
  },
  {
   "cell_type": "markdown",
   "id": "b282305a",
   "metadata": {},
   "source": [
    "### Question 2\n",
    "What's the AUC of this model on the validation dataset? (round to 3 digits)\n",
    "\n",
    "* 0.615\n",
    "* 0.515\n",
    "* 0.715\n",
    "* 0.995"
   ]
  },
  {
   "cell_type": "code",
   "execution_count": 31,
   "id": "7675ab4e",
   "metadata": {},
   "outputs": [
    {
     "data": {
      "text/plain": [
       "0.995"
      ]
     },
     "execution_count": 31,
     "metadata": {},
     "output_type": "execute_result"
    }
   ],
   "source": [
    "val_dict = df_val[use_columns].to_dict(orient='records')\n",
    "X_val = dv.transform(val_dict)\n",
    "\n",
    "y_pred = model.predict_proba(X_val)[:, 1]\n",
    "y_preds = model.predict(X_val)\n",
    "#model.score(X_val, y_val)\n",
    "\n",
    "round(roc_auc_score(y_val, y_pred),3)"
   ]
  },
  {
   "cell_type": "markdown",
   "id": "119dd534",
   "metadata": {},
   "source": [
    "### Answer 2 : 0.995"
   ]
  },
  {
   "cell_type": "markdown",
   "id": "2bfa4ead",
   "metadata": {},
   "source": [
    "### Question 3\n",
    "Now let's compute precision and recall for our model.\n",
    "\n",
    "* Evaluate the model on the validation dataset on all thresholds from 0.0 to 1.0 with step 0.01.\n",
    "* For each threshold, compute precision and recall.\n",
    "* Plot them.\n",
    "* At which threshold precision and recall curves intersect? -\n",
    "\n",
    "    * 0.1\n",
    "    * 0.3\n",
    "    * 0.6\n",
    "    * 0.8"
   ]
  },
  {
   "cell_type": "code",
   "execution_count": 32,
   "id": "36d04b48",
   "metadata": {},
   "outputs": [
    {
     "name": "stdout",
     "output_type": "stream",
     "text": [
      "0.0: precision : 0.799, recall : 1.0\n",
      "0.02: precision : 0.872, recall : 1.0\n",
      "0.04: precision : 0.906, recall : 1.0\n",
      "0.06: precision : 0.917, recall : 1.0\n",
      "0.08: precision : 0.921, recall : 0.995\n",
      "0.1: precision : 0.925, recall : 0.995\n",
      "0.12: precision : 0.929, recall : 0.995\n",
      "0.14: precision : 0.959, recall : 0.986\n",
      "0.16: precision : 0.967, recall : 0.986\n",
      "0.18: precision : 0.976, recall : 0.981\n",
      "0.2: precision : 0.976, recall : 0.981\n",
      "0.22: precision : 0.976, recall : 0.981\n",
      "0.24: precision : 0.976, recall : 0.976\n",
      "0.27: precision : 0.976, recall : 0.976\n",
      "0.29: precision : 0.976, recall : 0.976\n",
      "0.31: precision : 0.981, recall : 0.972\n",
      "0.33: precision : 0.981, recall : 0.972\n",
      "0.35: precision : 0.995, recall : 0.972\n",
      "0.37: precision : 0.995, recall : 0.972\n",
      "0.39: precision : 0.995, recall : 0.972\n",
      "0.41: precision : 0.995, recall : 0.972\n",
      "0.43: precision : 0.995, recall : 0.967\n",
      "0.45: precision : 0.995, recall : 0.967\n",
      "0.47: precision : 0.995, recall : 0.967\n",
      "0.49: precision : 0.995, recall : 0.967\n",
      "0.51: precision : 0.995, recall : 0.967\n",
      "0.53: precision : 0.995, recall : 0.967\n",
      "0.55: precision : 0.995, recall : 0.967\n",
      "0.57: precision : 0.995, recall : 0.967\n",
      "0.59: precision : 0.995, recall : 0.967\n",
      "0.61: precision : 0.995, recall : 0.967\n",
      "0.63: precision : 0.995, recall : 0.967\n",
      "0.65: precision : 0.995, recall : 0.967\n",
      "0.67: precision : 0.995, recall : 0.967\n",
      "0.69: precision : 0.995, recall : 0.967\n",
      "0.71: precision : 0.995, recall : 0.967\n",
      "0.73: precision : 0.995, recall : 0.967\n",
      "0.76: precision : 0.995, recall : 0.967\n",
      "0.78: precision : 0.995, recall : 0.967\n",
      "0.8: precision : 0.995, recall : 0.967\n",
      "0.82: precision : 0.995, recall : 0.967\n",
      "0.84: precision : 0.995, recall : 0.967\n",
      "0.86: precision : 1.0, recall : 0.967\n",
      "0.88: precision : 1.0, recall : 0.967\n",
      "0.9: precision : 1.0, recall : 0.967\n",
      "0.92: precision : 1.0, recall : 0.967\n",
      "0.94: precision : 1.0, recall : 0.967\n",
      "0.96: precision : 1.0, recall : 0.967\n",
      "0.98: precision : 1.0, recall : 0.962\n",
      "1.0: precision : 1.0, recall : 0.848\n"
     ]
    }
   ],
   "source": [
    "from sklearn.metrics import precision_score\n",
    "from sklearn.metrics import recall_score\n",
    "#from sklearn.metrics import precision_recall_curve\n",
    "precision_scores=[]\n",
    "recall_scores = []\n",
    "thresholds = np.linspace(0, 1)\n",
    "for i in thresholds:\n",
    "    precision = precision_score(y_val, y_pred >= i)\n",
    "    recall = recall_score(y_val, y_pred >= i)\n",
    "    print(f\"{i.round(2)}: precision : {precision.round(3)}, recall : {recall.round(3)}\")\n",
    "    #print(f\"{i.round(2)}: recall:{recall.round(3)}\")\n",
    "    precision_scores.append(precision)\n",
    "    recall_scores.append(recall)\n"
   ]
  },
  {
   "cell_type": "code",
   "execution_count": 33,
   "id": "486e28c8",
   "metadata": {},
   "outputs": [
    {
     "data": {
      "text/plain": [
       "<matplotlib.legend.Legend at 0x13830df17f0>"
      ]
     },
     "execution_count": 33,
     "metadata": {},
     "output_type": "execute_result"
    },
    {
     "data": {
      "image/png": "[encoded data removed]",
      "text/plain": [
       "<Figure size 432x288 with 1 Axes>"
      ]
     },
     "metadata": {
      "needs_background": "light"
     },
     "output_type": "display_data"
    }
   ],
   "source": [
    "plt.plot(thresholds, precision_scores)\n",
    "plt.plot(thresholds, recall_scores)\n",
    "plt.legend(labels=['precision', 'recall'])"
   ]
  },
  {
   "cell_type": "markdown",
   "id": "13c8e363",
   "metadata": {},
   "source": [
    "### Answer 3 :The precision and recall curves seem to intersect somewhere near 0.3"
   ]
  },
  {
   "cell_type": "markdown",
   "id": "0847efa8",
   "metadata": {},
   "source": [
    "### Question 4\n",
    "* Precision and recall are conflicting - when one grows, the other goes down. That's why they are often combined into the F1 score - a metrics that takes into account both\n",
    "\n",
    "* This is the formula for computing :\n",
    "     * f1 = 2 * ((P*R)/(P+R))\n",
    " \n",
    "\n",
    "* <b>Where P = precision and R = recall.</b>\n",
    "\n",
    "* Let's compute F1 for all thresholds from 0.0 to 1.0 with increment 0.01 using the validation set\n",
    "\n",
    "* At which threshold F1 is maximal?\n",
    "\n",
    "    * 0.1\n",
    "    * 0.4\n",
    "    * 0.6\n",
    "    * 0.7"
   ]
  },
  {
   "cell_type": "code",
   "execution_count": 34,
   "id": "e74936f5",
   "metadata": {},
   "outputs": [
    {
     "name": "stdout",
     "output_type": "stream",
     "text": [
      "0.0 : f1_score : 0.8884210526315789\n",
      "0.02 : f1_score : 0.9315673289183224\n",
      "0.04 : f1_score : 0.9504504504504505\n",
      "0.06 : f1_score : 0.9569160997732427\n",
      "0.08 : f1_score : 0.9567198177676538\n",
      "0.1 : f1_score : 0.958904109589041\n",
      "0.12 : f1_score : 0.9610983981693364\n",
      "0.14 : f1_score : 0.9719626168224299\n",
      "0.16 : f1_score : 0.9765258215962441\n",
      "0.18 : f1_score : 0.9787234042553191\n",
      "0.2 : f1_score : 0.9787234042553191\n",
      "0.22 : f1_score : 0.9787234042553191\n",
      "0.24 : f1_score : 0.976303317535545\n",
      "0.27 : f1_score : 0.976303317535545\n",
      "0.29 : f1_score : 0.976303317535545\n",
      "0.31 : f1_score : 0.9761904761904763\n",
      "0.33 : f1_score : 0.9761904761904763\n",
      "0.35 : f1_score : 0.9832134292565947\n",
      "0.37 : f1_score : 0.9832134292565947\n",
      "0.39 : f1_score : 0.9832134292565947\n",
      "0.41 : f1_score : 0.9832134292565947\n",
      "0.43 : f1_score : 0.9807692307692307\n",
      "0.45 : f1_score : 0.9807692307692307\n",
      "0.47 : f1_score : 0.9807692307692307\n",
      "0.49 : f1_score : 0.9807692307692307\n",
      "0.51 : f1_score : 0.9807692307692307\n",
      "0.53 : f1_score : 0.9807692307692307\n",
      "0.55 : f1_score : 0.9807692307692307\n",
      "0.57 : f1_score : 0.9807692307692307\n",
      "0.59 : f1_score : 0.9807692307692307\n",
      "0.61 : f1_score : 0.9807692307692307\n",
      "0.63 : f1_score : 0.9807692307692307\n",
      "0.65 : f1_score : 0.9807692307692307\n",
      "0.67 : f1_score : 0.9807692307692307\n",
      "0.69 : f1_score : 0.9807692307692307\n",
      "0.71 : f1_score : 0.9807692307692307\n",
      "0.73 : f1_score : 0.9807692307692307\n",
      "0.76 : f1_score : 0.9807692307692307\n",
      "0.78 : f1_score : 0.9807692307692307\n",
      "0.8 : f1_score : 0.9807692307692307\n",
      "0.82 : f1_score : 0.9807692307692307\n",
      "0.84 : f1_score : 0.9807692307692307\n",
      "0.86 : f1_score : 0.983132530120482\n",
      "0.88 : f1_score : 0.983132530120482\n",
      "0.9 : f1_score : 0.983132530120482\n",
      "0.92 : f1_score : 0.983132530120482\n",
      "0.94 : f1_score : 0.983132530120482\n",
      "0.96 : f1_score : 0.983132530120482\n",
      "0.98 : f1_score : 0.9806763285024155\n",
      "1.0 : f1_score : 0.9179487179487179\n"
     ]
    }
   ],
   "source": [
    "f1 = []\n",
    "thresholds = np.linspace(0, 1)\n",
    "for i in thresholds:\n",
    "    precision = precision_score(y_val, y_pred >= i)\n",
    "    recall = recall_score(y_val, y_pred >= i)\n",
    "    f1_sc = 2 * ((precision * recall) / (precision + recall))\n",
    "    print(f\"{i.round(2)} : f1_score : {f1_sc}\")\n",
    "    f1.append(f1_sc)"
   ]
  },
  {
   "cell_type": "code",
   "execution_count": 35,
   "id": "656b7b70",
   "metadata": {},
   "outputs": [
    {
     "name": "stdout",
     "output_type": "stream",
     "text": [
      "0.1 : f1_score : 0.958904109589041\n",
      "0.4 : f1_score : 0.9832134292565947\n",
      "0.6 : f1_score : 0.9807692307692307\n",
      "0.7 : f1_score : 0.9807692307692307\n"
     ]
    }
   ],
   "source": [
    "thresholds = [0.1, 0.4, 0.6, 0.7]\n",
    "for i in thresholds:\n",
    "    precision = precision_score(y_val, y_pred >= i)\n",
    "    recall = recall_score(y_val, y_pred >= i)\n",
    "    f1_sc = 2 * ((precision * recall) / (precision + recall))\n",
    "    print(f\"{i} : f1_score : {f1_sc}\")\n",
    "    "
   ]
  },
  {
   "cell_type": "markdown",
   "id": "30056a58",
   "metadata": {},
   "source": [
    "### Answer 4 - The f1 score is maximum around 0.4"
   ]
  },
  {
   "cell_type": "markdown",
   "id": "dc55fe21",
   "metadata": {},
   "source": [
    "### Question 5\n",
    "* Use the KFold class from Scikit-Learn to evaluate our model on 5 different folds:\n",
    "\n",
    "* KFold(n_splits=5, shuffle=True, random_state=1)\n",
    "* Iterate over different folds of df_full_train\n",
    "* Split the data into train and validation\n",
    "* Train the model on train with these parameters: LogisticRegression(solver='liblinear', C=1.0, max_iter=1000)\n",
    "* Use AUC to evaluate the model on validation\n",
    "* How large is standard devidation of the AUC scores across different folds?\n",
    "\n",
    "    * 0.003\n",
    "    * 0.014\n",
    "    * 0.09\n",
    "    * 0.24"
   ]
  },
  {
   "cell_type": "code",
   "execution_count": 36,
   "id": "bb0ee515",
   "metadata": {},
   "outputs": [
    {
     "name": "stdout",
     "output_type": "stream",
     "text": [
      "0.996 0.003\n"
     ]
    }
   ],
   "source": [
    "from sklearn.model_selection import KFold\n",
    "kfold = KFold(n_splits=5, shuffle=True, random_state=1)\n",
    "\n",
    "scores = []\n",
    "\n",
    "for train_idx, val_idx in kfold.split(df_full_train):\n",
    "    df_train = df_full_train.iloc[train_idx]\n",
    "    df_val = df_full_train.iloc[val_idx]\n",
    "    \n",
    "    y_train = df_train['target'].values\n",
    "    y_val = df_val['target'].values\n",
    "    \n",
    "    del df_train['target']\n",
    "    del df_val['target']\n",
    "    \n",
    "    dv_k = DictVectorizer(sparse=False)\n",
    "    train_dict = df_train[use_columns].to_dict(orient='records')\n",
    "    X_train = dv.fit_transform(train_dict)\n",
    "    \n",
    "    val_dict = df_val[use_columns].to_dict(orient='records')\n",
    "    X_val = dv.transform(val_dict)\n",
    "    \n",
    "    model_k = LogisticRegression(solver='liblinear', C=1.0, max_iter=1000)\n",
    "    model_k.fit(X_train, y_train)\n",
    "    \n",
    "    y_pred = model_k.predict_proba(X_val)[:, 1]\n",
    "    \n",
    "    auc = roc_auc_score(y_val, y_pred)\n",
    "    \n",
    "    scores.append(auc)\n",
    "\n",
    "print(np.mean(scores).round(3), np.std(scores).round(3))"
   ]
  },
  {
   "cell_type": "markdown",
   "id": "d00570a6",
   "metadata": {},
   "source": [
    "### Answer 5 : The standard deviation is 0.03 across different folds."
   ]
  },
  {
   "cell_type": "markdown",
   "id": "42baf131",
   "metadata": {},
   "source": [
    "### Question 6\n",
    "* Now let's use 5-Fold cross-validation to find the best parameter C\n",
    "\n",
    "* Iterate over the following C values: [0.01, 0.1, 1, 10]\n",
    "* Initialize KFold with the same parameters as previously\n",
    "* Use these parametes for the model: <b>LogisticRegression(solver='liblinear', C=C, max_iter=1000)</b>\n",
    "* Compute the mean score as well as the std (round the mean and std to 3 decimal digits)\n",
    "* Which C leads to the best mean score?\n",
    "\n",
    "    * 0.01\n",
    "    * 0.1\n",
    "    * 1\n",
    "    * 10\n",
    "\n",
    "* If you have ties, select the score with the lowest std. If you still have ties, select the smallest C"
   ]
  },
  {
   "cell_type": "code",
   "execution_count": 37,
   "id": "67f519d1",
   "metadata": {},
   "outputs": [
    {
     "data": {
      "application/vnd.jupyter.widget-view+json": {
       "model_id": "1b7444063a844f5b9dcb3c49db667f05",
       "version_major": 2,
       "version_minor": 0
      },
      "text/plain": [
       "  0%|          | 0/4 [00:00<?, ?it/s]"
      ]
     },
     "metadata": {},
     "output_type": "display_data"
    },
    {
     "name": "stdout",
     "output_type": "stream",
     "text": [
      "C=0.01 0.996 +- 0.003\n",
      "C=0.1 0.996 +- 0.003\n",
      "C=1 0.996 +- 0.003\n",
      "C=10 0.996 +- 0.003\n"
     ]
    }
   ],
   "source": [
    "from tqdm.auto import tqdm\n",
    "for C in tqdm([0.01, 0.1, 1, 10]):\n",
    "    kfold = KFold(n_splits=5, shuffle=True, random_state=1)\n",
    "\n",
    "    scores = []\n",
    "\n",
    "    for train_idx, val_idx in kfold.split(df_full_train):\n",
    "        df_train = df_full_train.iloc[train_idx]\n",
    "        df_val = df_full_train.iloc[val_idx]\n",
    "\n",
    "        y_train = df_train['target'].values\n",
    "        y_val = df_val['target'].values\n",
    "    \n",
    "        del df_train['target']\n",
    "        del df_val['target']\n",
    "    \n",
    "        dv_k = DictVectorizer(sparse=False)\n",
    "        train_dict = df_train[use_columns].to_dict(orient='records')\n",
    "        X_train = dv.fit_transform(train_dict)\n",
    "    \n",
    "        val_dict = df_val[use_columns].to_dict(orient='records')\n",
    "        X_val = dv.transform(val_dict)\n",
    "    \n",
    "        model_k = LogisticRegression(solver='liblinear', C=1.0, max_iter=1000)\n",
    "        model_k.fit(X_train, y_train)\n",
    "    \n",
    "        y_pred = model_k.predict_proba(X_val)[:, 1]\n",
    "    \n",
    "        auc = roc_auc_score(y_val, y_pred)\n",
    "    \n",
    "        scores.append(auc)\n",
    "\n",
    "\n",
    "    print('C=%s %.3f +- %.3f' % (C, np.mean(scores), np.std(scores)))"
   ]
  },
  {
   "cell_type": "markdown",
   "id": "eacc066c",
   "metadata": {},
   "source": [
    "### Answer 6 - We have ties for both standard deviation and mean. Hence we choose the score with lowest C value i.e. 0.01."
   ]
  },
  {
   "cell_type": "markdown",
   "id": "48a290f6",
   "metadata": {},
   "source": [
    "## Week 5"
   ]
  },
  {
   "cell_type": "markdown",
   "id": "bd0d48c8",
   "metadata": {},
   "source": [
    "### Question 1\n",
    "* Install Pipenv\n",
    "* What's the version of pipenv you installed?\n",
    "* Use --version to find out"
   ]
  },
  {
   "attachments": {
    "image.png": {
     "image/png": "[encoded data removed]"
    }
   },
   "cell_type": "markdown",
   "id": "3f5a27a4",
   "metadata": {},
   "source": [
    "![image.png](attachment:image.png)"
   ]
  },
  {
   "cell_type": "markdown",
   "id": "6457a323",
   "metadata": {},
   "source": [
    "### Question 2\n",
    "* Use Pipenv to install Scikit-Learn version 1.0.2\n",
    "*What's the first hash for scikit-learn you get in Pipfile.lock?"
   ]
  },
  {
   "cell_type": "markdown",
   "id": "05c7a705",
   "metadata": {},
   "source": [
    " \"scikit-learn\": {\n",
    "            \"hashes\": [\n",
    "                \"sha256:08ef968f6b72033c16c479c966bf37ccd49b06ea91b765e1cc27afefe723920b\","
   ]
  },
  {
   "cell_type": "markdown",
   "id": "473408dc",
   "metadata": {},
   "source": [
    "## Question 3\n",
    "* {\"reports\": 0, \"share\": 0.001694, \"expenditure\": 0.12, \"owner\": \"yes\"}\n",
    "* What's the probability that this client will get a credit card?"
   ]
  },
  {
   "cell_type": "code",
   "execution_count": 2,
   "id": "9f145d6e",
   "metadata": {},
   "outputs": [],
   "source": [
    "import pickle\n",
    "model_input = 'model1.bin'\n",
    "dv_input = 'dv.bin'\n",
    "\n",
    "with open(model_input, 'rb') as m_in:\n",
    "    model = pickle.load(m_in)\n",
    "\n",
    "with open(dv_input, 'rb') as d_in:\n",
    "    dv = pickle.load(d_in)\n"
   ]
  },
  {
   "cell_type": "code",
   "execution_count": 3,
   "id": "ca3d77de",
   "metadata": {},
   "outputs": [
    {
     "data": {
      "text/plain": [
       "(DictVectorizer(sparse=False), LogisticRegression(solver='liblinear'))"
      ]
     },
     "execution_count": 3,
     "metadata": {},
     "output_type": "execute_result"
    }
   ],
   "source": [
    "dv, model"
   ]
  },
  {
   "cell_type": "code",
   "execution_count": 7,
   "id": "f60e7719",
   "metadata": {},
   "outputs": [
    {
     "name": "stdout",
     "output_type": "stream",
     "text": [
      "input: {'reports': 0, 'share': 0.001694, 'expenditure': 0.12, 'owner': 'yes'}\n",
      "output: 0.162\n"
     ]
    }
   ],
   "source": [
    "client1 = {\"reports\": 0, \"share\": 0.001694, \"expenditure\": 0.12, \"owner\": \"yes\"}\n",
    "X = dv.transform([client1])\n",
    "y_pred = model.predict_proba(X)[0, 1]\n",
    "print('input:', client1)\n",
    "print('output:', y_pred.round(3))"
   ]
  },
  {
   "cell_type": "markdown",
   "id": "4d0df7f2",
   "metadata": {},
   "source": [
    "### Answer 3 - 0.162"
   ]
  },
  {
   "cell_type": "code",
   "execution_count": 9,
   "id": "042b6a59",
   "metadata": {},
   "outputs": [
    {
     "name": "stdout",
     "output_type": "stream",
     "text": [
      "input: {'reports': 0, 'share': 0.245, 'expenditure': 3.438, 'owner': 'yes'}\n",
      "output: 0.928\n"
     ]
    }
   ],
   "source": [
    "client2 = {\"reports\": 0, \"share\": 0.245, \"expenditure\": 3.438, \"owner\": \"yes\"}\n",
    "X = dv.transform([client2])\n",
    "y_pred = model.predict_proba(X)[0, 1]\n",
    "print('input:', client2)\n",
    "print('output:', y_pred.round(3))"
   ]
  },
  {
   "cell_type": "markdown",
   "id": "c7122180",
   "metadata": {},
   "source": [
    "### Answer 4 - 0.928"
   ]
  },
  {
   "cell_type": "code",
   "execution_count": 10,
   "id": "fc9aed59",
   "metadata": {},
   "outputs": [
    {
     "name": "stdout",
     "output_type": "stream",
     "text": [
      "input: {'reports': 0, 'share': 0.245, 'expenditure': 3.438, 'owner': 'yes'}\n",
      "output: 0.928\n"
     ]
    }
   ],
   "source": [
    "client3 = {\"reports\": 0, \"share\": 0.245, \"expenditure\": 3.438, \"owner\": \"yes\"}\n",
    "X = dv.transform([client3])\n",
    "y_pred = model.predict_proba(X)[0, 1]\n",
    "print('input:', client3)\n",
    "print('output:', y_pred.round(3))"
   ]
  },
  {
   "cell_type": "markdown",
   "id": "ef774249",
   "metadata": {},
   "source": [
    "### Question 5\n",
    "Download the base image svizor/zoomcamp-model:3.9.12-slim. You can easily make it by using docker pull command.\n",
    "\n",
    "* So what's the size of this base image?\n",
    "\n",
    "* 15 Mb\n",
    "* 125 Mb\n",
    "* 275 Mb\n",
    "* 415 Mb"
   ]
  },
  {
   "attachments": {
    "image.png": {
     "image/png": "[encoded data removed]"
    }
   },
   "cell_type": "markdown",
   "id": "ad7c5efc",
   "metadata": {},
   "source": [
    "![image.png](attachment:image.png)"
   ]
  },
  {
   "cell_type": "markdown",
   "id": "2f31a682",
   "metadata": {},
   "source": [
    "### Answer 5 - 125 MB"
   ]
  },
  {
   "cell_type": "code",
   "execution_count": null,
   "id": "11a7ddb2",
   "metadata": {},
   "outputs": [],
   "source": []
  }
 ],
 "metadata": {
  "kernelspec": {
   "display_name": "Python 3 (ipykernel)",
   "language": "python",
   "name": "python3"
  },
  "language_info": {
   "codemirror_mode": {
    "name": "ipython",
    "version": 3
   },
   "file_extension": ".py",
   "mimetype": "text/x-python",
   "name": "python",
   "nbconvert_exporter": "python",
   "pygments_lexer": "ipython3",
   "version": "3.9.12"
  }
 },
 "nbformat": 4,
 "nbformat_minor": 5
}
