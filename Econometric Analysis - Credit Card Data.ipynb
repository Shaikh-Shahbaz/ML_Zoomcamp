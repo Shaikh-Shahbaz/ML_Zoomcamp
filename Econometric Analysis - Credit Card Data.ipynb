{
 "cells": [
  {
   "cell_type": "markdown",
   "id": "dc50f680",
   "metadata": {},
   "source": [
    "### Loading the Libraries"
   ]
  },
  {
   "cell_type": "code",
   "execution_count": 145,
   "id": "d6e3e61e",
   "metadata": {},
   "outputs": [],
   "source": [
    "import pandas as pd\n",
    "import numpy as np\n",
    "import matplotlib.pyplot as plt\n",
    "import seaborn as sns\n",
    "\n",
    "%matplotlib inline"
   ]
  },
  {
   "cell_type": "markdown",
   "id": "827988fc",
   "metadata": {},
   "source": [
    "### Importing the dataset"
   ]
  },
  {
   "cell_type": "code",
   "execution_count": 146,
   "id": "d62d29ba",
   "metadata": {},
   "outputs": [
    {
     "data": {
      "text/plain": [
       "('AER_credit_card_data.csv', <http.client.HTTPMessage at 0x1fef48ced00>)"
      ]
     },
     "execution_count": 146,
     "metadata": {},
     "output_type": "execute_result"
    }
   ],
   "source": [
    "# https://stackoverflow.com/questions/57748687/downloading-files-in-jupyter-wget-on-windows\n",
    "import urllib.request\n",
    "url = 'https://raw.githubusercontent.com/alexeygrigorev/datasets/master/AER_credit_card_data.csv'\n",
    "filename = 'AER_credit_card_data.csv'\n",
    "urllib.request.urlretrieve(url, filename)"
   ]
  },
  {
   "cell_type": "code",
   "execution_count": 147,
   "id": "4b5df649",
   "metadata": {},
   "outputs": [
    {
     "data": {
      "text/html": [
       "<div>\n",
       "<style scoped>\n",
       "    .dataframe tbody tr th:only-of-type {\n",
       "        vertical-align: middle;\n",
       "    }\n",
       "\n",
       "    .dataframe tbody tr th {\n",
       "        vertical-align: top;\n",
       "    }\n",
       "\n",
       "    .dataframe thead th {\n",
       "        text-align: right;\n",
       "    }\n",
       "</style>\n",
       "<table border=\"1\" class=\"dataframe\">\n",
       "  <thead>\n",
       "    <tr style=\"text-align: right;\">\n",
       "      <th></th>\n",
       "      <th>card</th>\n",
       "      <th>reports</th>\n",
       "      <th>age</th>\n",
       "      <th>income</th>\n",
       "      <th>share</th>\n",
       "      <th>expenditure</th>\n",
       "      <th>owner</th>\n",
       "      <th>selfemp</th>\n",
       "      <th>dependents</th>\n",
       "      <th>months</th>\n",
       "      <th>majorcards</th>\n",
       "      <th>active</th>\n",
       "    </tr>\n",
       "  </thead>\n",
       "  <tbody>\n",
       "    <tr>\n",
       "      <th>0</th>\n",
       "      <td>yes</td>\n",
       "      <td>0</td>\n",
       "      <td>37.66667</td>\n",
       "      <td>4.5200</td>\n",
       "      <td>0.033270</td>\n",
       "      <td>124.983300</td>\n",
       "      <td>yes</td>\n",
       "      <td>no</td>\n",
       "      <td>3</td>\n",
       "      <td>54</td>\n",
       "      <td>1</td>\n",
       "      <td>12</td>\n",
       "    </tr>\n",
       "    <tr>\n",
       "      <th>1</th>\n",
       "      <td>yes</td>\n",
       "      <td>0</td>\n",
       "      <td>33.25000</td>\n",
       "      <td>2.4200</td>\n",
       "      <td>0.005217</td>\n",
       "      <td>9.854167</td>\n",
       "      <td>no</td>\n",
       "      <td>no</td>\n",
       "      <td>3</td>\n",
       "      <td>34</td>\n",
       "      <td>1</td>\n",
       "      <td>13</td>\n",
       "    </tr>\n",
       "    <tr>\n",
       "      <th>2</th>\n",
       "      <td>yes</td>\n",
       "      <td>0</td>\n",
       "      <td>33.66667</td>\n",
       "      <td>4.5000</td>\n",
       "      <td>0.004156</td>\n",
       "      <td>15.000000</td>\n",
       "      <td>yes</td>\n",
       "      <td>no</td>\n",
       "      <td>4</td>\n",
       "      <td>58</td>\n",
       "      <td>1</td>\n",
       "      <td>5</td>\n",
       "    </tr>\n",
       "    <tr>\n",
       "      <th>3</th>\n",
       "      <td>yes</td>\n",
       "      <td>0</td>\n",
       "      <td>30.50000</td>\n",
       "      <td>2.5400</td>\n",
       "      <td>0.065214</td>\n",
       "      <td>137.869200</td>\n",
       "      <td>no</td>\n",
       "      <td>no</td>\n",
       "      <td>0</td>\n",
       "      <td>25</td>\n",
       "      <td>1</td>\n",
       "      <td>7</td>\n",
       "    </tr>\n",
       "    <tr>\n",
       "      <th>4</th>\n",
       "      <td>yes</td>\n",
       "      <td>0</td>\n",
       "      <td>32.16667</td>\n",
       "      <td>9.7867</td>\n",
       "      <td>0.067051</td>\n",
       "      <td>546.503300</td>\n",
       "      <td>yes</td>\n",
       "      <td>no</td>\n",
       "      <td>2</td>\n",
       "      <td>64</td>\n",
       "      <td>1</td>\n",
       "      <td>5</td>\n",
       "    </tr>\n",
       "  </tbody>\n",
       "</table>\n",
       "</div>"
      ],
      "text/plain": [
       "  card  reports       age  income     share  expenditure owner selfemp  \\\n",
       "0  yes        0  37.66667  4.5200  0.033270   124.983300   yes      no   \n",
       "1  yes        0  33.25000  2.4200  0.005217     9.854167    no      no   \n",
       "2  yes        0  33.66667  4.5000  0.004156    15.000000   yes      no   \n",
       "3  yes        0  30.50000  2.5400  0.065214   137.869200    no      no   \n",
       "4  yes        0  32.16667  9.7867  0.067051   546.503300   yes      no   \n",
       "\n",
       "   dependents  months  majorcards  active  \n",
       "0           3      54           1      12  \n",
       "1           3      34           1      13  \n",
       "2           4      58           1       5  \n",
       "3           0      25           1       7  \n",
       "4           2      64           1       5  "
      ]
     },
     "execution_count": 147,
     "metadata": {},
     "output_type": "execute_result"
    }
   ],
   "source": [
    "df = pd.read_csv('AER_credit_card_data.csv')\n",
    "df.head()"
   ]
  },
  {
   "cell_type": "code",
   "execution_count": 148,
   "id": "8cdaef7b",
   "metadata": {},
   "outputs": [
    {
     "data": {
      "text/plain": [
       "card            object\n",
       "reports          int64\n",
       "age            float64\n",
       "income         float64\n",
       "share          float64\n",
       "expenditure    float64\n",
       "owner           object\n",
       "selfemp         object\n",
       "dependents       int64\n",
       "months           int64\n",
       "majorcards       int64\n",
       "active           int64\n",
       "dtype: object"
      ]
     },
     "execution_count": 148,
     "metadata": {},
     "output_type": "execute_result"
    }
   ],
   "source": [
    "df.dtypes"
   ]
  },
  {
   "cell_type": "markdown",
   "id": "15f0b146",
   "metadata": {},
   "source": [
    "### Data Preparation"
   ]
  },
  {
   "cell_type": "code",
   "execution_count": 149,
   "id": "70efee24",
   "metadata": {},
   "outputs": [
    {
     "data": {
      "text/html": [
       "<div>\n",
       "<style scoped>\n",
       "    .dataframe tbody tr th:only-of-type {\n",
       "        vertical-align: middle;\n",
       "    }\n",
       "\n",
       "    .dataframe tbody tr th {\n",
       "        vertical-align: top;\n",
       "    }\n",
       "\n",
       "    .dataframe thead th {\n",
       "        text-align: right;\n",
       "    }\n",
       "</style>\n",
       "<table border=\"1\" class=\"dataframe\">\n",
       "  <thead>\n",
       "    <tr style=\"text-align: right;\">\n",
       "      <th></th>\n",
       "      <th>card</th>\n",
       "      <th>reports</th>\n",
       "      <th>age</th>\n",
       "      <th>income</th>\n",
       "      <th>share</th>\n",
       "      <th>expenditure</th>\n",
       "      <th>owner</th>\n",
       "      <th>selfemp</th>\n",
       "      <th>dependents</th>\n",
       "      <th>months</th>\n",
       "      <th>majorcards</th>\n",
       "      <th>active</th>\n",
       "      <th>target</th>\n",
       "    </tr>\n",
       "  </thead>\n",
       "  <tbody>\n",
       "    <tr>\n",
       "      <th>0</th>\n",
       "      <td>yes</td>\n",
       "      <td>0</td>\n",
       "      <td>37.66667</td>\n",
       "      <td>4.5200</td>\n",
       "      <td>0.033270</td>\n",
       "      <td>124.983300</td>\n",
       "      <td>yes</td>\n",
       "      <td>no</td>\n",
       "      <td>3</td>\n",
       "      <td>54</td>\n",
       "      <td>1</td>\n",
       "      <td>12</td>\n",
       "      <td>1</td>\n",
       "    </tr>\n",
       "    <tr>\n",
       "      <th>1</th>\n",
       "      <td>yes</td>\n",
       "      <td>0</td>\n",
       "      <td>33.25000</td>\n",
       "      <td>2.4200</td>\n",
       "      <td>0.005217</td>\n",
       "      <td>9.854167</td>\n",
       "      <td>no</td>\n",
       "      <td>no</td>\n",
       "      <td>3</td>\n",
       "      <td>34</td>\n",
       "      <td>1</td>\n",
       "      <td>13</td>\n",
       "      <td>1</td>\n",
       "    </tr>\n",
       "    <tr>\n",
       "      <th>2</th>\n",
       "      <td>yes</td>\n",
       "      <td>0</td>\n",
       "      <td>33.66667</td>\n",
       "      <td>4.5000</td>\n",
       "      <td>0.004156</td>\n",
       "      <td>15.000000</td>\n",
       "      <td>yes</td>\n",
       "      <td>no</td>\n",
       "      <td>4</td>\n",
       "      <td>58</td>\n",
       "      <td>1</td>\n",
       "      <td>5</td>\n",
       "      <td>1</td>\n",
       "    </tr>\n",
       "    <tr>\n",
       "      <th>3</th>\n",
       "      <td>yes</td>\n",
       "      <td>0</td>\n",
       "      <td>30.50000</td>\n",
       "      <td>2.5400</td>\n",
       "      <td>0.065214</td>\n",
       "      <td>137.869200</td>\n",
       "      <td>no</td>\n",
       "      <td>no</td>\n",
       "      <td>0</td>\n",
       "      <td>25</td>\n",
       "      <td>1</td>\n",
       "      <td>7</td>\n",
       "      <td>1</td>\n",
       "    </tr>\n",
       "    <tr>\n",
       "      <th>4</th>\n",
       "      <td>yes</td>\n",
       "      <td>0</td>\n",
       "      <td>32.16667</td>\n",
       "      <td>9.7867</td>\n",
       "      <td>0.067051</td>\n",
       "      <td>546.503300</td>\n",
       "      <td>yes</td>\n",
       "      <td>no</td>\n",
       "      <td>2</td>\n",
       "      <td>64</td>\n",
       "      <td>1</td>\n",
       "      <td>5</td>\n",
       "      <td>1</td>\n",
       "    </tr>\n",
       "  </tbody>\n",
       "</table>\n",
       "</div>"
      ],
      "text/plain": [
       "  card  reports       age  income     share  expenditure owner selfemp  \\\n",
       "0  yes        0  37.66667  4.5200  0.033270   124.983300   yes      no   \n",
       "1  yes        0  33.25000  2.4200  0.005217     9.854167    no      no   \n",
       "2  yes        0  33.66667  4.5000  0.004156    15.000000   yes      no   \n",
       "3  yes        0  30.50000  2.5400  0.065214   137.869200    no      no   \n",
       "4  yes        0  32.16667  9.7867  0.067051   546.503300   yes      no   \n",
       "\n",
       "   dependents  months  majorcards  active  target  \n",
       "0           3      54           1      12       1  \n",
       "1           3      34           1      13       1  \n",
       "2           4      58           1       5       1  \n",
       "3           0      25           1       7       1  \n",
       "4           2      64           1       5       1  "
      ]
     },
     "execution_count": 149,
     "metadata": {},
     "output_type": "execute_result"
    }
   ],
   "source": [
    "df['target'] = (df['card'] == 'yes').astype('int')\n",
    "df.head()"
   ]
  },
  {
   "cell_type": "code",
   "execution_count": 150,
   "id": "b75c1c00",
   "metadata": {},
   "outputs": [
    {
     "name": "stdout",
     "output_type": "stream",
     "text": [
      "yes    1023\n",
      "no      296\n",
      "Name: card, dtype: int64\n",
      "1    1023\n",
      "0     296\n",
      "Name: target, dtype: int64\n"
     ]
    }
   ],
   "source": [
    "# Checking if the target column has been properly mapped\n",
    "print(df.card.value_counts())\n",
    "print(df.target.value_counts())"
   ]
  },
  {
   "cell_type": "markdown",
   "id": "8538eea0",
   "metadata": {},
   "source": [
    "### Splitting the data into train, val and test "
   ]
  },
  {
   "cell_type": "code",
   "execution_count": 151,
   "id": "eafaf111",
   "metadata": {},
   "outputs": [
    {
     "data": {
      "text/plain": [
       "((791, 13), (264, 13), (264, 13))"
      ]
     },
     "execution_count": 151,
     "metadata": {},
     "output_type": "execute_result"
    }
   ],
   "source": [
    "from sklearn.model_selection import train_test_split\n",
    "df_full_train, df_test = train_test_split(df, test_size=0.2, random_state=1)\n",
    "df_train, df_val = train_test_split(df_full_train, test_size=0.25, random_state=1)\n",
    "df_train.shape, df_val.shape, df_test.shape"
   ]
  },
  {
   "cell_type": "code",
   "execution_count": 152,
   "id": "12c309a3",
   "metadata": {},
   "outputs": [],
   "source": [
    "y_train = df_train['target'].values\n",
    "y_val = df_val['target'].values\n",
    "y_test = df_test['target'].values\n",
    "\n",
    "del df_train['target']\n",
    "del df_val['target']\n",
    "del df_test['target']"
   ]
  },
  {
   "cell_type": "markdown",
   "id": "df122c11",
   "metadata": {},
   "source": [
    "### Question 1\n",
    "ROC AUC could also be used to evaluate feature importance of numerical variables.\n",
    "\n",
    "Let's do that\n",
    "\n",
    "For each numerical variable, use it as score and compute AUC with the card variable.\n",
    "Use the training dataset for that.\n",
    "If your AUC is < 0.5, invert this variable by putting \"-\" in front\n",
    "\n",
    "(e.g. -df_train['expenditure'])\n",
    "\n",
    "AUC can go below 0.5 if the variable is negatively correlated with the target varialble. You can change the direction of the correlation by negating this variable - then negative correlation becomes positive.\n",
    "\n",
    "Which numerical variable (among the following 4) has the highest AUC?\n",
    "\n",
    "* reports\n",
    "* dependents\n",
    "* active\n",
    "* share"
   ]
  },
  {
   "cell_type": "code",
   "execution_count": 153,
   "id": "0c676736",
   "metadata": {},
   "outputs": [
    {
     "name": "stdout",
     "output_type": "stream",
     "text": [
      "reports : 0.7166629860689376\n",
      "dependents : 0.5327757227773791\n",
      "active : 0.6043173411362006\n",
      "share : 0.989183643423692\n"
     ]
    }
   ],
   "source": [
    "from sklearn.metrics import auc, roc_auc_score\n",
    "print(f\"reports : {roc_auc_score(df_train['card'], -df_train['reports'])}\")\n",
    "print(f\"dependents : {roc_auc_score(df_train['card'], -df_train['dependents'])}\")\n",
    "print(f\"active : {roc_auc_score(df_train['card'], df_train['active'])}\")\n",
    "print(f\"share : {roc_auc_score(df_train['card'], df_train['share'])}\")"
   ]
  },
  {
   "cell_type": "markdown",
   "id": "5af39899",
   "metadata": {},
   "source": [
    "### Answer 1 - share has the higest auc score."
   ]
  },
  {
   "cell_type": "code",
   "execution_count": 154,
   "id": "9356109d",
   "metadata": {},
   "outputs": [],
   "source": [
    "use_columns = [\"reports\", \"age\", \"income\", \"share\", \"expenditure\", \"dependents\", \"months\", \"majorcards\", \"active\", \"owner\", \"selfemp\"]\n"
   ]
  },
  {
   "cell_type": "markdown",
   "id": "19af9581",
   "metadata": {},
   "source": [
    "## Training the model\n",
    "From now on, use these columns only:\n",
    "\n",
    "[\"reports\", \"age\", \"income\", \"share\", \"expenditure\", \"dependents\", \"months\", \"majorcards\", \"active\", \"owner\", \"selfemp\"]\n",
    "Apply one-hot-encoding using DictVectorizer and train the logistic regression with these parameters:\n",
    "\n",
    "LogisticRegression(solver='liblinear', C=1.0, max_iter=1000)"
   ]
  },
  {
   "cell_type": "code",
   "execution_count": 155,
   "id": "eb4937f3",
   "metadata": {},
   "outputs": [
    {
     "data": {
      "text/plain": [
       "LogisticRegression(max_iter=1000, solver='liblinear')"
      ]
     },
     "execution_count": 155,
     "metadata": {},
     "output_type": "execute_result"
    }
   ],
   "source": [
    "from sklearn.feature_extraction import DictVectorizer\n",
    "from sklearn.linear_model import LogisticRegression\n",
    "\n",
    "dv = DictVectorizer(sparse=False)\n",
    "model = LogisticRegression(solver='liblinear', C=1.0, max_iter=1000)\n",
    "\n",
    "train_dict = df_train[use_columns].to_dict(orient='records')\n",
    "X_train = dv.fit_transform(train_dict)\n",
    "\n",
    "model.fit(X_train, y_train)"
   ]
  },
  {
   "cell_type": "markdown",
   "id": "97569084",
   "metadata": {},
   "source": [
    "### Question 2\n",
    "What's the AUC of this model on the validation dataset? (round to 3 digits)\n",
    "\n",
    "* 0.615\n",
    "* 0.515\n",
    "* 0.715\n",
    "* 0.995"
   ]
  },
  {
   "cell_type": "code",
   "execution_count": 156,
   "id": "bf4801e9",
   "metadata": {},
   "outputs": [
    {
     "data": {
      "text/plain": [
       "0.995"
      ]
     },
     "execution_count": 156,
     "metadata": {},
     "output_type": "execute_result"
    }
   ],
   "source": [
    "val_dict = df_val[use_columns].to_dict(orient='records')\n",
    "X_val = dv.transform(val_dict)\n",
    "\n",
    "y_pred = model.predict_proba(X_val)[:, 1]\n",
    "y_preds = model.predict(X_val)\n",
    "#model.score(X_val, y_val)\n",
    "\n",
    "round(roc_auc_score(y_val, y_pred),3)"
   ]
  },
  {
   "cell_type": "markdown",
   "id": "2be54c46",
   "metadata": {},
   "source": [
    "### Answer 2 : 0.995"
   ]
  },
  {
   "cell_type": "markdown",
   "id": "961cf77e",
   "metadata": {},
   "source": [
    "### Question 3\n",
    "Now let's compute precision and recall for our model.\n",
    "\n",
    "* Evaluate the model on the validation dataset on all thresholds from 0.0 to 1.0 with step 0.01.\n",
    "* For each threshold, compute precision and recall.\n",
    "* Plot them.\n",
    "* At which threshold precision and recall curves intersect? -\n",
    "\n",
    "    * 0.1\n",
    "    * 0.3\n",
    "    * 0.6\n",
    "    * 0.8"
   ]
  },
  {
   "cell_type": "code",
   "execution_count": 157,
   "id": "8af4866b",
   "metadata": {},
   "outputs": [
    {
     "name": "stdout",
     "output_type": "stream",
     "text": [
      "0.0: precision : 0.799, recall : 1.0\n",
      "0.02: precision : 0.872, recall : 1.0\n",
      "0.04: precision : 0.906, recall : 1.0\n",
      "0.06: precision : 0.917, recall : 1.0\n",
      "0.08: precision : 0.921, recall : 0.995\n",
      "0.1: precision : 0.925, recall : 0.995\n",
      "0.12: precision : 0.929, recall : 0.995\n",
      "0.14: precision : 0.959, recall : 0.986\n",
      "0.16: precision : 0.967, recall : 0.986\n",
      "0.18: precision : 0.976, recall : 0.981\n",
      "0.2: precision : 0.976, recall : 0.981\n",
      "0.22: precision : 0.976, recall : 0.981\n",
      "0.24: precision : 0.976, recall : 0.976\n",
      "0.27: precision : 0.976, recall : 0.976\n",
      "0.29: precision : 0.976, recall : 0.976\n",
      "0.31: precision : 0.981, recall : 0.972\n",
      "0.33: precision : 0.981, recall : 0.972\n",
      "0.35: precision : 0.995, recall : 0.972\n",
      "0.37: precision : 0.995, recall : 0.972\n",
      "0.39: precision : 0.995, recall : 0.972\n",
      "0.41: precision : 0.995, recall : 0.972\n",
      "0.43: precision : 0.995, recall : 0.967\n",
      "0.45: precision : 0.995, recall : 0.967\n",
      "0.47: precision : 0.995, recall : 0.967\n",
      "0.49: precision : 0.995, recall : 0.967\n",
      "0.51: precision : 0.995, recall : 0.967\n",
      "0.53: precision : 0.995, recall : 0.967\n",
      "0.55: precision : 0.995, recall : 0.967\n",
      "0.57: precision : 0.995, recall : 0.967\n",
      "0.59: precision : 0.995, recall : 0.967\n",
      "0.61: precision : 0.995, recall : 0.967\n",
      "0.63: precision : 0.995, recall : 0.967\n",
      "0.65: precision : 0.995, recall : 0.967\n",
      "0.67: precision : 0.995, recall : 0.967\n",
      "0.69: precision : 0.995, recall : 0.967\n",
      "0.71: precision : 0.995, recall : 0.967\n",
      "0.73: precision : 0.995, recall : 0.967\n",
      "0.76: precision : 0.995, recall : 0.967\n",
      "0.78: precision : 0.995, recall : 0.967\n",
      "0.8: precision : 0.995, recall : 0.967\n",
      "0.82: precision : 0.995, recall : 0.967\n",
      "0.84: precision : 0.995, recall : 0.967\n",
      "0.86: precision : 1.0, recall : 0.967\n",
      "0.88: precision : 1.0, recall : 0.967\n",
      "0.9: precision : 1.0, recall : 0.967\n",
      "0.92: precision : 1.0, recall : 0.967\n",
      "0.94: precision : 1.0, recall : 0.967\n",
      "0.96: precision : 1.0, recall : 0.967\n",
      "0.98: precision : 1.0, recall : 0.962\n",
      "1.0: precision : 1.0, recall : 0.848\n"
     ]
    }
   ],
   "source": [
    "from sklearn.metrics import precision_score\n",
    "from sklearn.metrics import recall_score\n",
    "#from sklearn.metrics import precision_recall_curve\n",
    "precision_scores=[]\n",
    "recall_scores = []\n",
    "thresholds = np.linspace(0, 1)\n",
    "for i in thresholds:\n",
    "    precision = precision_score(y_val, y_pred >= i)\n",
    "    recall = recall_score(y_val, y_pred >= i)\n",
    "    print(f\"{i.round(2)}: precision : {precision.round(3)}, recall : {recall.round(3)}\")\n",
    "    #print(f\"{i.round(2)}: recall:{recall.round(3)}\")\n",
    "    precision_scores.append(precision)\n",
    "    recall_scores.append(recall)\n"
   ]
  },
  {
   "cell_type": "code",
   "execution_count": 158,
   "id": "2b1474df",
   "metadata": {},
   "outputs": [
    {
     "data": {
      "text/plain": [
       "<matplotlib.legend.Legend at 0x1fef49a5dc0>"
      ]
     },
     "execution_count": 158,
     "metadata": {},
     "output_type": "execute_result"
    },
    {
     "data": {
      "image/png": "[encoded data removed]",
      "text/plain": [
       "<Figure size 432x288 with 1 Axes>"
      ]
     },
     "metadata": {
      "needs_background": "light"
     },
     "output_type": "display_data"
    }
   ],
   "source": [
    "plt.plot(thresholds, precision_scores)\n",
    "plt.plot(thresholds, recall_scores)\n",
    "plt.legend(labels=['precision', 'recall'])"
   ]
  },
  {
   "cell_type": "markdown",
   "id": "f1dc3052",
   "metadata": {},
   "source": [
    "### Answer 3 :The precision and recall curves seem to intersect somewhere near 0.3"
   ]
  },
  {
   "cell_type": "markdown",
   "id": "edf65eb5",
   "metadata": {},
   "source": [
    "### Question 4\n",
    "* Precision and recall are conflicting - when one grows, the other goes down. That's why they are often combined into the F1 score - a metrics that takes into account both\n",
    "\n",
    "* This is the formula for computing :\n",
    "     * f1 = 2 * ((P*R)/(P+R))\n",
    " \n",
    "\n",
    "* <b>Where P = precision and R = recall.</b>\n",
    "\n",
    "* Let's compute F1 for all thresholds from 0.0 to 1.0 with increment 0.01 using the validation set\n",
    "\n",
    "* At which threshold F1 is maximal?\n",
    "\n",
    "    * 0.1\n",
    "    * 0.4\n",
    "    * 0.6\n",
    "    * 0.7"
   ]
  },
  {
   "cell_type": "code",
   "execution_count": 159,
   "id": "e555c815",
   "metadata": {},
   "outputs": [
    {
     "name": "stdout",
     "output_type": "stream",
     "text": [
      "0.0 : f1_score : 0.8884210526315789\n",
      "0.02 : f1_score : 0.9315673289183224\n",
      "0.04 : f1_score : 0.9504504504504505\n",
      "0.06 : f1_score : 0.9569160997732427\n",
      "0.08 : f1_score : 0.9567198177676538\n",
      "0.1 : f1_score : 0.958904109589041\n",
      "0.12 : f1_score : 0.9610983981693364\n",
      "0.14 : f1_score : 0.9719626168224299\n",
      "0.16 : f1_score : 0.9765258215962441\n",
      "0.18 : f1_score : 0.9787234042553191\n",
      "0.2 : f1_score : 0.9787234042553191\n",
      "0.22 : f1_score : 0.9787234042553191\n",
      "0.24 : f1_score : 0.976303317535545\n",
      "0.27 : f1_score : 0.976303317535545\n",
      "0.29 : f1_score : 0.976303317535545\n",
      "0.31 : f1_score : 0.9761904761904763\n",
      "0.33 : f1_score : 0.9761904761904763\n",
      "0.35 : f1_score : 0.9832134292565947\n",
      "0.37 : f1_score : 0.9832134292565947\n",
      "0.39 : f1_score : 0.9832134292565947\n",
      "0.41 : f1_score : 0.9832134292565947\n",
      "0.43 : f1_score : 0.9807692307692307\n",
      "0.45 : f1_score : 0.9807692307692307\n",
      "0.47 : f1_score : 0.9807692307692307\n",
      "0.49 : f1_score : 0.9807692307692307\n",
      "0.51 : f1_score : 0.9807692307692307\n",
      "0.53 : f1_score : 0.9807692307692307\n",
      "0.55 : f1_score : 0.9807692307692307\n",
      "0.57 : f1_score : 0.9807692307692307\n",
      "0.59 : f1_score : 0.9807692307692307\n",
      "0.61 : f1_score : 0.9807692307692307\n",
      "0.63 : f1_score : 0.9807692307692307\n",
      "0.65 : f1_score : 0.9807692307692307\n",
      "0.67 : f1_score : 0.9807692307692307\n",
      "0.69 : f1_score : 0.9807692307692307\n",
      "0.71 : f1_score : 0.9807692307692307\n",
      "0.73 : f1_score : 0.9807692307692307\n",
      "0.76 : f1_score : 0.9807692307692307\n",
      "0.78 : f1_score : 0.9807692307692307\n",
      "0.8 : f1_score : 0.9807692307692307\n",
      "0.82 : f1_score : 0.9807692307692307\n",
      "0.84 : f1_score : 0.9807692307692307\n",
      "0.86 : f1_score : 0.983132530120482\n",
      "0.88 : f1_score : 0.983132530120482\n",
      "0.9 : f1_score : 0.983132530120482\n",
      "0.92 : f1_score : 0.983132530120482\n",
      "0.94 : f1_score : 0.983132530120482\n",
      "0.96 : f1_score : 0.983132530120482\n",
      "0.98 : f1_score : 0.9806763285024155\n",
      "1.0 : f1_score : 0.9179487179487179\n"
     ]
    }
   ],
   "source": [
    "f1 = []\n",
    "thresholds = np.linspace(0, 1)\n",
    "for i in thresholds:\n",
    "    precision = precision_score(y_val, y_pred >= i)\n",
    "    recall = recall_score(y_val, y_pred >= i)\n",
    "    f1_sc = 2 * ((precision * recall) / (precision + recall))\n",
    "    print(f\"{i.round(2)} : f1_score : {f1_sc}\")\n",
    "    f1.append(f1_sc)"
   ]
  },
  {
   "cell_type": "code",
   "execution_count": 160,
   "id": "bac953bc",
   "metadata": {},
   "outputs": [
    {
     "name": "stdout",
     "output_type": "stream",
     "text": [
      "0.1 : f1_score : 0.958904109589041\n",
      "0.4 : f1_score : 0.9832134292565947\n",
      "0.6 : f1_score : 0.9807692307692307\n",
      "0.7 : f1_score : 0.9807692307692307\n"
     ]
    }
   ],
   "source": [
    "thresholds = [0.1, 0.4, 0.6, 0.7]\n",
    "for i in thresholds:\n",
    "    precision = precision_score(y_val, y_pred >= i)\n",
    "    recall = recall_score(y_val, y_pred >= i)\n",
    "    f1_sc = 2 * ((precision * recall) / (precision + recall))\n",
    "    print(f\"{i} : f1_score : {f1_sc}\")\n",
    "    "
   ]
  },
  {
   "cell_type": "markdown",
   "id": "ebc8955d",
   "metadata": {},
   "source": [
    "### Answer 4 - The f1 score is maximum around 0.4"
   ]
  },
  {
   "cell_type": "markdown",
   "id": "401b270c",
   "metadata": {},
   "source": [
    "### Question 5\n",
    "* Use the KFold class from Scikit-Learn to evaluate our model on 5 different folds:\n",
    "\n",
    "* KFold(n_splits=5, shuffle=True, random_state=1)\n",
    "* Iterate over different folds of df_full_train\n",
    "* Split the data into train and validation\n",
    "* Train the model on train with these parameters: LogisticRegression(solver='liblinear', C=1.0, max_iter=1000)\n",
    "* Use AUC to evaluate the model on validation\n",
    "* How large is standard devidation of the AUC scores across different folds?\n",
    "\n",
    "    * 0.003\n",
    "    * 0.014\n",
    "    * 0.09\n",
    "    * 0.24"
   ]
  },
  {
   "cell_type": "code",
   "execution_count": 162,
   "id": "37eff33d",
   "metadata": {},
   "outputs": [
    {
     "name": "stdout",
     "output_type": "stream",
     "text": [
      "0.996 0.003\n"
     ]
    }
   ],
   "source": [
    "from sklearn.model_selection import KFold\n",
    "kfold = KFold(n_splits=5, shuffle=True, random_state=1)\n",
    "\n",
    "scores = []\n",
    "\n",
    "for train_idx, val_idx in kfold.split(df_full_train):\n",
    "    df_train = df_full_train.iloc[train_idx]\n",
    "    df_val = df_full_train.iloc[val_idx]\n",
    "    \n",
    "    y_train = df_train['target'].values\n",
    "    y_val = df_val['target'].values\n",
    "    \n",
    "    del df_train['target']\n",
    "    del df_val['target']\n",
    "    \n",
    "    dv_k = DictVectorizer(sparse=False)\n",
    "    train_dict = df_train[use_columns].to_dict(orient='records')\n",
    "    X_train = dv.fit_transform(train_dict)\n",
    "    \n",
    "    val_dict = df_val[use_columns].to_dict(orient='records')\n",
    "    X_val = dv.transform(val_dict)\n",
    "    \n",
    "    model_k = LogisticRegression(solver='liblinear', C=1.0, max_iter=1000)\n",
    "    model_k.fit(X_train, y_train)\n",
    "    \n",
    "    y_pred = model_k.predict_proba(X_val)[:, 1]\n",
    "    \n",
    "    auc = roc_auc_score(y_val, y_pred)\n",
    "    \n",
    "    scores.append(auc)\n",
    "\n",
    "print(np.mean(scores).round(3), np.std(scores).round(3))"
   ]
  },
  {
   "cell_type": "code",
   "execution_count": 164,
   "id": "0dde014e",
   "metadata": {},
   "outputs": [],
   "source": [
    "from tqdm.auto import tqdm"
   ]
  },
  {
   "cell_type": "markdown",
   "id": "87d57327",
   "metadata": {},
   "source": [
    "### Answer 5 : The standard deviation is 0.03 across different folds."
   ]
  },
  {
   "cell_type": "markdown",
   "id": "54873159",
   "metadata": {},
   "source": [
    "### Question 6\n",
    "* Now let's use 5-Fold cross-validation to find the best parameter C\n",
    "\n",
    "* Iterate over the following C values: [0.01, 0.1, 1, 10]\n",
    "* Initialize KFold with the same parameters as previously\n",
    "* Use these parametes for the model: <b>LogisticRegression(solver='liblinear', C=C, max_iter=1000)</b>\n",
    "* Compute the mean score as well as the std (round the mean and std to 3 decimal digits)\n",
    "* Which C leads to the best mean score?\n",
    "\n",
    "    * 0.01\n",
    "    * 0.1\n",
    "    * 1\n",
    "    * 10\n",
    "\n",
    "* If you have ties, select the score with the lowest std. If you still have ties, select the smallest C"
   ]
  },
  {
   "cell_type": "code",
   "execution_count": 166,
   "id": "1aca81df",
   "metadata": {},
   "outputs": [
    {
     "data": {
      "application/vnd.jupyter.widget-view+json": {
       "model_id": "ec46c68ade704efe80bb8d845c44a743",
       "version_major": 2,
       "version_minor": 0
      },
      "text/plain": [
       "  0%|          | 0/4 [00:00<?, ?it/s]"
      ]
     },
     "metadata": {},
     "output_type": "display_data"
    },
    {
     "name": "stdout",
     "output_type": "stream",
     "text": [
      "C=0.01 0.996 +- 0.003\n",
      "C=0.1 0.996 +- 0.003\n",
      "C=1 0.996 +- 0.003\n",
      "C=10 0.996 +- 0.003\n"
     ]
    }
   ],
   "source": [
    "for C in tqdm([0.01, 0.1, 1, 10]):\n",
    "    kfold = KFold(n_splits=5, shuffle=True, random_state=1)\n",
    "\n",
    "    scores = []\n",
    "\n",
    "    for train_idx, val_idx in kfold.split(df_full_train):\n",
    "        df_train = df_full_train.iloc[train_idx]\n",
    "        df_val = df_full_train.iloc[val_idx]\n",
    "\n",
    "        y_train = df_train['target'].values\n",
    "        y_val = df_val['target'].values\n",
    "    \n",
    "        del df_train['target']\n",
    "        del df_val['target']\n",
    "    \n",
    "        dv_k = DictVectorizer(sparse=False)\n",
    "        train_dict = df_train[use_columns].to_dict(orient='records')\n",
    "        X_train = dv.fit_transform(train_dict)\n",
    "    \n",
    "        val_dict = df_val[use_columns].to_dict(orient='records')\n",
    "        X_val = dv.transform(val_dict)\n",
    "    \n",
    "        model_k = LogisticRegression(solver='liblinear', C=1.0, max_iter=1000)\n",
    "        model_k.fit(X_train, y_train)\n",
    "    \n",
    "        y_pred = model_k.predict_proba(X_val)[:, 1]\n",
    "    \n",
    "        auc = roc_auc_score(y_val, y_pred)\n",
    "    \n",
    "        scores.append(auc)\n",
    "\n",
    "\n",
    "    print('C=%s %.3f +- %.3f' % (C, np.mean(scores), np.std(scores)))"
   ]
  },
  {
   "cell_type": "markdown",
   "id": "a32c93d4",
   "metadata": {},
   "source": [
    "### Answer 6 - We have ties for both standard deviation and mean. Hence we choose the score with lowest C value i.e. 0.01."
   ]
  },
  {
   "cell_type": "code",
   "execution_count": null,
   "id": "2927ee08",
   "metadata": {},
   "outputs": [],
   "source": []
  }
 ],
 "metadata": {
  "kernelspec": {
   "display_name": "Python 3 (ipykernel)",
   "language": "python",
   "name": "python3"
  },
  "language_info": {
   "codemirror_mode": {
    "name": "ipython",
    "version": 3
   },
   "file_extension": ".py",
   "mimetype": "text/x-python",
   "name": "python",
   "nbconvert_exporter": "python",
   "pygments_lexer": "ipython3",
   "version": "3.9.12"
  }
 },
 "nbformat": 4,
 "nbformat_minor": 5
}
