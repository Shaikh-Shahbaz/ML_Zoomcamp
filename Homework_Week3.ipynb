{
 "cells": [
  {
   "cell_type": "markdown",
   "id": "f3c6f40b",
   "metadata": {},
   "source": [
    "## Importing Dataset"
   ]
  },
  {
   "cell_type": "code",
   "execution_count": 102,
   "id": "abc3f847",
   "metadata": {},
   "outputs": [],
   "source": [
    "import pandas as pd\n",
    "import numpy as np\n",
    "import matplotlib.pyplot as plt\n",
    "import seaborn as sns\n",
    "\n",
    "%matplotlib inline"
   ]
  },
  {
   "cell_type": "code",
   "execution_count": 103,
   "id": "46d4cb67",
   "metadata": {},
   "outputs": [
    {
     "data": {
      "text/html": [
       "<div>\n",
       "<style scoped>\n",
       "    .dataframe tbody tr th:only-of-type {\n",
       "        vertical-align: middle;\n",
       "    }\n",
       "\n",
       "    .dataframe tbody tr th {\n",
       "        vertical-align: top;\n",
       "    }\n",
       "\n",
       "    .dataframe thead th {\n",
       "        text-align: right;\n",
       "    }\n",
       "</style>\n",
       "<table border=\"1\" class=\"dataframe\">\n",
       "  <thead>\n",
       "    <tr style=\"text-align: right;\">\n",
       "      <th></th>\n",
       "      <th>longitude</th>\n",
       "      <th>latitude</th>\n",
       "      <th>housing_median_age</th>\n",
       "      <th>total_rooms</th>\n",
       "      <th>total_bedrooms</th>\n",
       "      <th>population</th>\n",
       "      <th>households</th>\n",
       "      <th>median_income</th>\n",
       "      <th>median_house_value</th>\n",
       "      <th>ocean_proximity</th>\n",
       "    </tr>\n",
       "  </thead>\n",
       "  <tbody>\n",
       "    <tr>\n",
       "      <th>0</th>\n",
       "      <td>-122.23</td>\n",
       "      <td>37.88</td>\n",
       "      <td>41.0</td>\n",
       "      <td>880.0</td>\n",
       "      <td>129.0</td>\n",
       "      <td>322.0</td>\n",
       "      <td>126.0</td>\n",
       "      <td>8.3252</td>\n",
       "      <td>452600.0</td>\n",
       "      <td>NEAR BAY</td>\n",
       "    </tr>\n",
       "    <tr>\n",
       "      <th>1</th>\n",
       "      <td>-122.22</td>\n",
       "      <td>37.86</td>\n",
       "      <td>21.0</td>\n",
       "      <td>7099.0</td>\n",
       "      <td>1106.0</td>\n",
       "      <td>2401.0</td>\n",
       "      <td>1138.0</td>\n",
       "      <td>8.3014</td>\n",
       "      <td>358500.0</td>\n",
       "      <td>NEAR BAY</td>\n",
       "    </tr>\n",
       "    <tr>\n",
       "      <th>2</th>\n",
       "      <td>-122.24</td>\n",
       "      <td>37.85</td>\n",
       "      <td>52.0</td>\n",
       "      <td>1467.0</td>\n",
       "      <td>190.0</td>\n",
       "      <td>496.0</td>\n",
       "      <td>177.0</td>\n",
       "      <td>7.2574</td>\n",
       "      <td>352100.0</td>\n",
       "      <td>NEAR BAY</td>\n",
       "    </tr>\n",
       "    <tr>\n",
       "      <th>3</th>\n",
       "      <td>-122.25</td>\n",
       "      <td>37.85</td>\n",
       "      <td>52.0</td>\n",
       "      <td>1274.0</td>\n",
       "      <td>235.0</td>\n",
       "      <td>558.0</td>\n",
       "      <td>219.0</td>\n",
       "      <td>5.6431</td>\n",
       "      <td>341300.0</td>\n",
       "      <td>NEAR BAY</td>\n",
       "    </tr>\n",
       "    <tr>\n",
       "      <th>4</th>\n",
       "      <td>-122.25</td>\n",
       "      <td>37.85</td>\n",
       "      <td>52.0</td>\n",
       "      <td>1627.0</td>\n",
       "      <td>280.0</td>\n",
       "      <td>565.0</td>\n",
       "      <td>259.0</td>\n",
       "      <td>3.8462</td>\n",
       "      <td>342200.0</td>\n",
       "      <td>NEAR BAY</td>\n",
       "    </tr>\n",
       "  </tbody>\n",
       "</table>\n",
       "</div>"
      ],
      "text/plain": [
       "   longitude  latitude  housing_median_age  total_rooms  total_bedrooms  \\\n",
       "0    -122.23     37.88                41.0        880.0           129.0   \n",
       "1    -122.22     37.86                21.0       7099.0          1106.0   \n",
       "2    -122.24     37.85                52.0       1467.0           190.0   \n",
       "3    -122.25     37.85                52.0       1274.0           235.0   \n",
       "4    -122.25     37.85                52.0       1627.0           280.0   \n",
       "\n",
       "   population  households  median_income  median_house_value ocean_proximity  \n",
       "0       322.0       126.0         8.3252            452600.0        NEAR BAY  \n",
       "1      2401.0      1138.0         8.3014            358500.0        NEAR BAY  \n",
       "2       496.0       177.0         7.2574            352100.0        NEAR BAY  \n",
       "3       558.0       219.0         5.6431            341300.0        NEAR BAY  \n",
       "4       565.0       259.0         3.8462            342200.0        NEAR BAY  "
      ]
     },
     "execution_count": 103,
     "metadata": {},
     "output_type": "execute_result"
    }
   ],
   "source": [
    "df = pd.read_csv('housing.csv')\n",
    "df.head()"
   ]
  },
  {
   "cell_type": "markdown",
   "id": "11a3dd52",
   "metadata": {},
   "source": [
    "## Data Preparation"
   ]
  },
  {
   "cell_type": "markdown",
   "id": "726de09b",
   "metadata": {},
   "source": [
    "### Select only the features from above and fill in the missing values with 0."
   ]
  },
  {
   "cell_type": "code",
   "execution_count": 104,
   "id": "8ca5073c",
   "metadata": {},
   "outputs": [
    {
     "data": {
      "text/plain": [
       "longitude               0\n",
       "latitude                0\n",
       "housing_median_age      0\n",
       "total_rooms             0\n",
       "total_bedrooms        207\n",
       "population              0\n",
       "households              0\n",
       "median_income           0\n",
       "median_house_value      0\n",
       "ocean_proximity         0\n",
       "dtype: int64"
      ]
     },
     "execution_count": 104,
     "metadata": {},
     "output_type": "execute_result"
    }
   ],
   "source": [
    "df.isnull().sum()"
   ]
  },
  {
   "cell_type": "code",
   "execution_count": 105,
   "id": "3959aa68",
   "metadata": {},
   "outputs": [],
   "source": [
    "df.total_bedrooms = df.total_bedrooms.fillna(0)"
   ]
  },
  {
   "cell_type": "code",
   "execution_count": 106,
   "id": "e741b7f8",
   "metadata": {},
   "outputs": [
    {
     "data": {
      "text/plain": [
       "longitude             0\n",
       "latitude              0\n",
       "housing_median_age    0\n",
       "total_rooms           0\n",
       "total_bedrooms        0\n",
       "population            0\n",
       "households            0\n",
       "median_income         0\n",
       "median_house_value    0\n",
       "ocean_proximity       0\n",
       "dtype: int64"
      ]
     },
     "execution_count": 106,
     "metadata": {},
     "output_type": "execute_result"
    }
   ],
   "source": [
    "df.isnull().sum()"
   ]
  },
  {
   "cell_type": "markdown",
   "id": "92781dbc",
   "metadata": {},
   "source": [
    "### Create a new column rooms_per_household by dividing the column total_rooms by the column households from dataframe."
   ]
  },
  {
   "cell_type": "code",
   "execution_count": 107,
   "id": "56aa0484",
   "metadata": {},
   "outputs": [],
   "source": [
    "df['rooms_per_household'] = df['total_rooms'] / df['households']"
   ]
  },
  {
   "cell_type": "markdown",
   "id": "60833c64",
   "metadata": {},
   "source": [
    "### Create a new column bedrooms_per_room by dividing the column total_bedrooms by the column total_rooms from dataframe."
   ]
  },
  {
   "cell_type": "code",
   "execution_count": 108,
   "id": "0bcfd07c",
   "metadata": {},
   "outputs": [],
   "source": [
    "df['bedrooms_per_room'] = df['total_bedrooms'] / df['total_rooms']"
   ]
  },
  {
   "cell_type": "markdown",
   "id": "b6f155a1",
   "metadata": {},
   "source": [
    "### Create a new column population_per_household by dividing the column population by the column households from dataframe."
   ]
  },
  {
   "cell_type": "code",
   "execution_count": 109,
   "id": "6243f81d",
   "metadata": {},
   "outputs": [],
   "source": [
    "df['population_per_household'] = df['population'] / df['households']"
   ]
  },
  {
   "cell_type": "code",
   "execution_count": 110,
   "id": "554fdf4a",
   "metadata": {},
   "outputs": [
    {
     "data": {
      "text/html": [
       "<div>\n",
       "<style scoped>\n",
       "    .dataframe tbody tr th:only-of-type {\n",
       "        vertical-align: middle;\n",
       "    }\n",
       "\n",
       "    .dataframe tbody tr th {\n",
       "        vertical-align: top;\n",
       "    }\n",
       "\n",
       "    .dataframe thead th {\n",
       "        text-align: right;\n",
       "    }\n",
       "</style>\n",
       "<table border=\"1\" class=\"dataframe\">\n",
       "  <thead>\n",
       "    <tr style=\"text-align: right;\">\n",
       "      <th></th>\n",
       "      <th>longitude</th>\n",
       "      <th>latitude</th>\n",
       "      <th>housing_median_age</th>\n",
       "      <th>total_rooms</th>\n",
       "      <th>total_bedrooms</th>\n",
       "      <th>population</th>\n",
       "      <th>households</th>\n",
       "      <th>median_income</th>\n",
       "      <th>median_house_value</th>\n",
       "      <th>ocean_proximity</th>\n",
       "      <th>rooms_per_household</th>\n",
       "      <th>bedrooms_per_room</th>\n",
       "      <th>population_per_household</th>\n",
       "    </tr>\n",
       "  </thead>\n",
       "  <tbody>\n",
       "    <tr>\n",
       "      <th>0</th>\n",
       "      <td>-122.23</td>\n",
       "      <td>37.88</td>\n",
       "      <td>41.0</td>\n",
       "      <td>880.0</td>\n",
       "      <td>129.0</td>\n",
       "      <td>322.0</td>\n",
       "      <td>126.0</td>\n",
       "      <td>8.3252</td>\n",
       "      <td>452600.0</td>\n",
       "      <td>NEAR BAY</td>\n",
       "      <td>6.984127</td>\n",
       "      <td>0.146591</td>\n",
       "      <td>2.555556</td>\n",
       "    </tr>\n",
       "    <tr>\n",
       "      <th>1</th>\n",
       "      <td>-122.22</td>\n",
       "      <td>37.86</td>\n",
       "      <td>21.0</td>\n",
       "      <td>7099.0</td>\n",
       "      <td>1106.0</td>\n",
       "      <td>2401.0</td>\n",
       "      <td>1138.0</td>\n",
       "      <td>8.3014</td>\n",
       "      <td>358500.0</td>\n",
       "      <td>NEAR BAY</td>\n",
       "      <td>6.238137</td>\n",
       "      <td>0.155797</td>\n",
       "      <td>2.109842</td>\n",
       "    </tr>\n",
       "    <tr>\n",
       "      <th>2</th>\n",
       "      <td>-122.24</td>\n",
       "      <td>37.85</td>\n",
       "      <td>52.0</td>\n",
       "      <td>1467.0</td>\n",
       "      <td>190.0</td>\n",
       "      <td>496.0</td>\n",
       "      <td>177.0</td>\n",
       "      <td>7.2574</td>\n",
       "      <td>352100.0</td>\n",
       "      <td>NEAR BAY</td>\n",
       "      <td>8.288136</td>\n",
       "      <td>0.129516</td>\n",
       "      <td>2.802260</td>\n",
       "    </tr>\n",
       "    <tr>\n",
       "      <th>3</th>\n",
       "      <td>-122.25</td>\n",
       "      <td>37.85</td>\n",
       "      <td>52.0</td>\n",
       "      <td>1274.0</td>\n",
       "      <td>235.0</td>\n",
       "      <td>558.0</td>\n",
       "      <td>219.0</td>\n",
       "      <td>5.6431</td>\n",
       "      <td>341300.0</td>\n",
       "      <td>NEAR BAY</td>\n",
       "      <td>5.817352</td>\n",
       "      <td>0.184458</td>\n",
       "      <td>2.547945</td>\n",
       "    </tr>\n",
       "    <tr>\n",
       "      <th>4</th>\n",
       "      <td>-122.25</td>\n",
       "      <td>37.85</td>\n",
       "      <td>52.0</td>\n",
       "      <td>1627.0</td>\n",
       "      <td>280.0</td>\n",
       "      <td>565.0</td>\n",
       "      <td>259.0</td>\n",
       "      <td>3.8462</td>\n",
       "      <td>342200.0</td>\n",
       "      <td>NEAR BAY</td>\n",
       "      <td>6.281853</td>\n",
       "      <td>0.172096</td>\n",
       "      <td>2.181467</td>\n",
       "    </tr>\n",
       "  </tbody>\n",
       "</table>\n",
       "</div>"
      ],
      "text/plain": [
       "   longitude  latitude  housing_median_age  total_rooms  total_bedrooms  \\\n",
       "0    -122.23     37.88                41.0        880.0           129.0   \n",
       "1    -122.22     37.86                21.0       7099.0          1106.0   \n",
       "2    -122.24     37.85                52.0       1467.0           190.0   \n",
       "3    -122.25     37.85                52.0       1274.0           235.0   \n",
       "4    -122.25     37.85                52.0       1627.0           280.0   \n",
       "\n",
       "   population  households  median_income  median_house_value ocean_proximity  \\\n",
       "0       322.0       126.0         8.3252            452600.0        NEAR BAY   \n",
       "1      2401.0      1138.0         8.3014            358500.0        NEAR BAY   \n",
       "2       496.0       177.0         7.2574            352100.0        NEAR BAY   \n",
       "3       558.0       219.0         5.6431            341300.0        NEAR BAY   \n",
       "4       565.0       259.0         3.8462            342200.0        NEAR BAY   \n",
       "\n",
       "   rooms_per_household  bedrooms_per_room  population_per_household  \n",
       "0             6.984127           0.146591                  2.555556  \n",
       "1             6.238137           0.155797                  2.109842  \n",
       "2             8.288136           0.129516                  2.802260  \n",
       "3             5.817352           0.184458                  2.547945  \n",
       "4             6.281853           0.172096                  2.181467  "
      ]
     },
     "execution_count": 110,
     "metadata": {},
     "output_type": "execute_result"
    }
   ],
   "source": [
    "df.head()"
   ]
  },
  {
   "cell_type": "markdown",
   "id": "9c9485ee",
   "metadata": {},
   "source": [
    "### Question 1\n",
    "What is the most frequent observation (mode) for the column ocean_proximity?"
   ]
  },
  {
   "cell_type": "code",
   "execution_count": 111,
   "id": "0a865c7c",
   "metadata": {},
   "outputs": [
    {
     "data": {
      "text/plain": [
       "0    <1H OCEAN\n",
       "Name: ocean_proximity, dtype: object"
      ]
     },
     "execution_count": 111,
     "metadata": {},
     "output_type": "execute_result"
    }
   ],
   "source": [
    "df['ocean_proximity'].mode()"
   ]
  },
  {
   "cell_type": "markdown",
   "id": "859c4acb",
   "metadata": {},
   "source": [
    "### Answer 1 : <1H OCEAN"
   ]
  },
  {
   "cell_type": "code",
   "execution_count": 112,
   "id": "246d8b6b",
   "metadata": {},
   "outputs": [
    {
     "data": {
      "text/plain": [
       "<AxesSubplot:>"
      ]
     },
     "execution_count": 112,
     "metadata": {},
     "output_type": "execute_result"
    },
    {
     "data": {
      "image/png": "[encoded data removed]",
      "text/plain": [
       "<Figure size 1152x432 with 2 Axes>"
      ]
     },
     "metadata": {
      "needs_background": "light"
     },
     "output_type": "display_data"
    }
   ],
   "source": [
    "plt.figure(figsize=(16, 6))\n",
    "sns.heatmap(df.corr(), vmin=-1, vmax=1, annot=True)"
   ]
  },
  {
   "cell_type": "markdown",
   "id": "e5b18ec0",
   "metadata": {},
   "source": [
    "### Answer 2 - total_bedrooms and households have the highest correlation"
   ]
  },
  {
   "cell_type": "markdown",
   "id": "41d6731c",
   "metadata": {},
   "source": [
    "### Make median_house_value binary\n",
    "* We need to turn the median_house_value variable from numeric into binary.\n",
    "* Let's create a variable above_average which is 1 if the median_house_value is above its mean value and 0 otherwise."
   ]
  },
  {
   "cell_type": "code",
   "execution_count": 113,
   "id": "a9ffcd94",
   "metadata": {},
   "outputs": [
    {
     "data": {
      "text/html": [
       "<div>\n",
       "<style scoped>\n",
       "    .dataframe tbody tr th:only-of-type {\n",
       "        vertical-align: middle;\n",
       "    }\n",
       "\n",
       "    .dataframe tbody tr th {\n",
       "        vertical-align: top;\n",
       "    }\n",
       "\n",
       "    .dataframe thead th {\n",
       "        text-align: right;\n",
       "    }\n",
       "</style>\n",
       "<table border=\"1\" class=\"dataframe\">\n",
       "  <thead>\n",
       "    <tr style=\"text-align: right;\">\n",
       "      <th></th>\n",
       "      <th>longitude</th>\n",
       "      <th>latitude</th>\n",
       "      <th>housing_median_age</th>\n",
       "      <th>total_rooms</th>\n",
       "      <th>total_bedrooms</th>\n",
       "      <th>population</th>\n",
       "      <th>households</th>\n",
       "      <th>median_income</th>\n",
       "      <th>median_house_value</th>\n",
       "      <th>ocean_proximity</th>\n",
       "      <th>rooms_per_household</th>\n",
       "      <th>bedrooms_per_room</th>\n",
       "      <th>population_per_household</th>\n",
       "      <th>above_average</th>\n",
       "    </tr>\n",
       "  </thead>\n",
       "  <tbody>\n",
       "    <tr>\n",
       "      <th>0</th>\n",
       "      <td>-122.23</td>\n",
       "      <td>37.88</td>\n",
       "      <td>41.0</td>\n",
       "      <td>880.0</td>\n",
       "      <td>129.0</td>\n",
       "      <td>322.0</td>\n",
       "      <td>126.0</td>\n",
       "      <td>8.3252</td>\n",
       "      <td>452600.0</td>\n",
       "      <td>NEAR BAY</td>\n",
       "      <td>6.984127</td>\n",
       "      <td>0.146591</td>\n",
       "      <td>2.555556</td>\n",
       "      <td>1</td>\n",
       "    </tr>\n",
       "    <tr>\n",
       "      <th>1</th>\n",
       "      <td>-122.22</td>\n",
       "      <td>37.86</td>\n",
       "      <td>21.0</td>\n",
       "      <td>7099.0</td>\n",
       "      <td>1106.0</td>\n",
       "      <td>2401.0</td>\n",
       "      <td>1138.0</td>\n",
       "      <td>8.3014</td>\n",
       "      <td>358500.0</td>\n",
       "      <td>NEAR BAY</td>\n",
       "      <td>6.238137</td>\n",
       "      <td>0.155797</td>\n",
       "      <td>2.109842</td>\n",
       "      <td>1</td>\n",
       "    </tr>\n",
       "    <tr>\n",
       "      <th>2</th>\n",
       "      <td>-122.24</td>\n",
       "      <td>37.85</td>\n",
       "      <td>52.0</td>\n",
       "      <td>1467.0</td>\n",
       "      <td>190.0</td>\n",
       "      <td>496.0</td>\n",
       "      <td>177.0</td>\n",
       "      <td>7.2574</td>\n",
       "      <td>352100.0</td>\n",
       "      <td>NEAR BAY</td>\n",
       "      <td>8.288136</td>\n",
       "      <td>0.129516</td>\n",
       "      <td>2.802260</td>\n",
       "      <td>1</td>\n",
       "    </tr>\n",
       "    <tr>\n",
       "      <th>3</th>\n",
       "      <td>-122.25</td>\n",
       "      <td>37.85</td>\n",
       "      <td>52.0</td>\n",
       "      <td>1274.0</td>\n",
       "      <td>235.0</td>\n",
       "      <td>558.0</td>\n",
       "      <td>219.0</td>\n",
       "      <td>5.6431</td>\n",
       "      <td>341300.0</td>\n",
       "      <td>NEAR BAY</td>\n",
       "      <td>5.817352</td>\n",
       "      <td>0.184458</td>\n",
       "      <td>2.547945</td>\n",
       "      <td>1</td>\n",
       "    </tr>\n",
       "    <tr>\n",
       "      <th>4</th>\n",
       "      <td>-122.25</td>\n",
       "      <td>37.85</td>\n",
       "      <td>52.0</td>\n",
       "      <td>1627.0</td>\n",
       "      <td>280.0</td>\n",
       "      <td>565.0</td>\n",
       "      <td>259.0</td>\n",
       "      <td>3.8462</td>\n",
       "      <td>342200.0</td>\n",
       "      <td>NEAR BAY</td>\n",
       "      <td>6.281853</td>\n",
       "      <td>0.172096</td>\n",
       "      <td>2.181467</td>\n",
       "      <td>1</td>\n",
       "    </tr>\n",
       "  </tbody>\n",
       "</table>\n",
       "</div>"
      ],
      "text/plain": [
       "   longitude  latitude  housing_median_age  total_rooms  total_bedrooms  \\\n",
       "0    -122.23     37.88                41.0        880.0           129.0   \n",
       "1    -122.22     37.86                21.0       7099.0          1106.0   \n",
       "2    -122.24     37.85                52.0       1467.0           190.0   \n",
       "3    -122.25     37.85                52.0       1274.0           235.0   \n",
       "4    -122.25     37.85                52.0       1627.0           280.0   \n",
       "\n",
       "   population  households  median_income  median_house_value ocean_proximity  \\\n",
       "0       322.0       126.0         8.3252            452600.0        NEAR BAY   \n",
       "1      2401.0      1138.0         8.3014            358500.0        NEAR BAY   \n",
       "2       496.0       177.0         7.2574            352100.0        NEAR BAY   \n",
       "3       558.0       219.0         5.6431            341300.0        NEAR BAY   \n",
       "4       565.0       259.0         3.8462            342200.0        NEAR BAY   \n",
       "\n",
       "   rooms_per_household  bedrooms_per_room  population_per_household  \\\n",
       "0             6.984127           0.146591                  2.555556   \n",
       "1             6.238137           0.155797                  2.109842   \n",
       "2             8.288136           0.129516                  2.802260   \n",
       "3             5.817352           0.184458                  2.547945   \n",
       "4             6.281853           0.172096                  2.181467   \n",
       "\n",
       "   above_average  \n",
       "0              1  \n",
       "1              1  \n",
       "2              1  \n",
       "3              1  \n",
       "4              1  "
      ]
     },
     "execution_count": 113,
     "metadata": {},
     "output_type": "execute_result"
    }
   ],
   "source": [
    "mean_median_house_price = df['median_house_value'].mean()\n",
    "df['above_average'] = (df['median_house_value'] > mean_mean_house_price).astype('int')\n",
    "df.head()"
   ]
  },
  {
   "cell_type": "markdown",
   "id": "7fea9d02",
   "metadata": {},
   "source": [
    "### Split the data\n",
    "* Split your data in train/val/test sets, with 60%/20%/20% distribution.\n",
    "* Use Scikit-Learn for that (the train_test_split function) and set the seed to 42.\n",
    "* Make sure that the target value (median_house_value) is not in your dataframe."
   ]
  },
  {
   "cell_type": "code",
   "execution_count": 117,
   "id": "1a0b191a",
   "metadata": {},
   "outputs": [
    {
     "data": {
      "text/plain": [
       "((12384, 14), (4128, 14), (4128, 14))"
      ]
     },
     "execution_count": 117,
     "metadata": {},
     "output_type": "execute_result"
    }
   ],
   "source": [
    "from sklearn.model_selection import train_test_split\n",
    "\n",
    "df_full_train, df_test = train_test_split(df, test_size=0.2, random_state=42)\n",
    "df_train, df_val = train_test_split(df_full_train, test_size=0.25, random_state=42)\n",
    "df_train.shape, df_test.shape, df_val.shape"
   ]
  },
  {
   "cell_type": "code",
   "execution_count": 118,
   "id": "9a58d60b",
   "metadata": {},
   "outputs": [],
   "source": [
    "y_train = df_train['above_average'].values\n",
    "y_test = df_test['above_average'].values\n",
    "y_val = df_val['above_average'].values\n",
    "\n",
    "df_train.drop(columns= ['median_house_value', 'above_average'], inplace=True)\n",
    "df_test.drop(columns= ['median_house_value', 'above_average'], inplace=True)\n",
    "df_val.drop(columns= ['median_house_value', 'above_average'], inplace=True)\n"
   ]
  },
  {
   "cell_type": "markdown",
   "id": "9dccac87",
   "metadata": {},
   "source": [
    "#### Question 3\n",
    "* Calculate the mutual information score with the (binarized) price for the categorical variable that we have. Use the training set only.\n",
    "* What is the value of mutual information?\n",
    "* Round it to 2 decimal digits using round(score, 2)"
   ]
  },
  {
   "cell_type": "markdown",
   "id": "49e9f4a2",
   "metadata": {},
   "source": [
    "### Feature Importance : Mutual Information"
   ]
  },
  {
   "cell_type": "code",
   "execution_count": 119,
   "id": "d202dead",
   "metadata": {},
   "outputs": [],
   "source": [
    "from sklearn.metrics import mutual_info_score"
   ]
  },
  {
   "cell_type": "code",
   "execution_count": 124,
   "id": "b597299a",
   "metadata": {},
   "outputs": [
    {
     "data": {
      "text/plain": [
       "longitude                   float64\n",
       "latitude                    float64\n",
       "housing_median_age          float64\n",
       "total_rooms                 float64\n",
       "total_bedrooms              float64\n",
       "population                  float64\n",
       "households                  float64\n",
       "median_income               float64\n",
       "median_house_value          float64\n",
       "ocean_proximity              object\n",
       "rooms_per_household         float64\n",
       "bedrooms_per_room           float64\n",
       "population_per_household    float64\n",
       "above_average                 int32\n",
       "dtype: object"
      ]
     },
     "execution_count": 124,
     "metadata": {},
     "output_type": "execute_result"
    }
   ],
   "source": [
    "df_full_train.dtypes"
   ]
  },
  {
   "cell_type": "code",
   "execution_count": 123,
   "id": "52e80483",
   "metadata": {},
   "outputs": [
    {
     "data": {
      "text/plain": [
       "0.102"
      ]
     },
     "execution_count": 123,
     "metadata": {},
     "output_type": "execute_result"
    }
   ],
   "source": [
    "round(mutual_info_score(df_full_train['above_average'], df_full_train['ocean_proximity']),3)"
   ]
  },
  {
   "cell_type": "markdown",
   "id": "77bbe7f7",
   "metadata": {},
   "source": [
    "### Answer 3 - 0.10"
   ]
  },
  {
   "cell_type": "markdown",
   "id": "5f08270a",
   "metadata": {},
   "source": [
    "#### Question 4\n",
    "* <b>Now let's train a logistic regression\n",
    "* <b>Remember that we have one categorical variable ocean_proximity in the data. Include it using one-hot encoding.\n",
    "* <b>Fit the model on the training dataset.\n",
    "* <b>To make sure the results are reproducible across different versions of Scikit-Learn, fit the model with these parameters:\n",
    "* <b>model = LogisticRegression(solver=\"liblinear\", C=1.0, max_iter=1000, random_state=42)\n",
    "* <b>Calculate the accuracy on the validation dataset and round it to 2 decimal digits."
   ]
  },
  {
   "cell_type": "markdown",
   "id": "a2e32c49",
   "metadata": {},
   "source": [
    "### One-hot Encoding Categorical Variables"
   ]
  },
  {
   "cell_type": "code",
   "execution_count": 125,
   "id": "d0a6a662",
   "metadata": {},
   "outputs": [
    {
     "data": {
      "text/plain": [
       "{'longitude': -119.67,\n",
       " 'latitude': 34.43,\n",
       " 'housing_median_age': 39.0,\n",
       " 'total_rooms': 1467.0,\n",
       " 'total_bedrooms': 381.0,\n",
       " 'population': 1404.0,\n",
       " 'households': 374.0,\n",
       " 'median_income': 2.3681,\n",
       " 'ocean_proximity': '<1H OCEAN',\n",
       " 'rooms_per_household': 3.9224598930481283,\n",
       " 'bedrooms_per_room': 0.25971370143149286,\n",
       " 'population_per_household': 3.7540106951871657}"
      ]
     },
     "execution_count": 125,
     "metadata": {},
     "output_type": "execute_result"
    }
   ],
   "source": [
    "from sklearn.feature_extraction import DictVectorizer\n",
    "\n",
    "train_dicts = df_train.to_dict(orient='records')\n",
    "train_dicts[0]"
   ]
  },
  {
   "cell_type": "code",
   "execution_count": 126,
   "id": "331aea8c",
   "metadata": {},
   "outputs": [],
   "source": [
    "dv = DictVectorizer(sparse=False)\n",
    "X_train = dv.fit_transform(train_dicts)"
   ]
  },
  {
   "cell_type": "code",
   "execution_count": 127,
   "id": "d04c023d",
   "metadata": {},
   "outputs": [
    {
     "data": {
      "text/plain": [
       "array(['bedrooms_per_room', 'households', 'housing_median_age',\n",
       "       'latitude', 'longitude', 'median_income',\n",
       "       'ocean_proximity=<1H OCEAN', 'ocean_proximity=INLAND',\n",
       "       'ocean_proximity=ISLAND', 'ocean_proximity=NEAR BAY',\n",
       "       'ocean_proximity=NEAR OCEAN', 'population',\n",
       "       'population_per_household', 'rooms_per_household',\n",
       "       'total_bedrooms', 'total_rooms'], dtype=object)"
      ]
     },
     "execution_count": 127,
     "metadata": {},
     "output_type": "execute_result"
    }
   ],
   "source": [
    "dv.get_feature_names_out()"
   ]
  },
  {
   "cell_type": "code",
   "execution_count": 128,
   "id": "12a0d8e9",
   "metadata": {},
   "outputs": [
    {
     "data": {
      "text/plain": [
       "(12384, 16)"
      ]
     },
     "execution_count": 128,
     "metadata": {},
     "output_type": "execute_result"
    }
   ],
   "source": [
    "X_train.shape"
   ]
  },
  {
   "cell_type": "code",
   "execution_count": 129,
   "id": "4ff9c259",
   "metadata": {},
   "outputs": [
    {
     "data": {
      "text/plain": [
       "{'longitude': -119.85,\n",
       " 'latitude': 36.74,\n",
       " 'housing_median_age': 35.0,\n",
       " 'total_rooms': 1191.0,\n",
       " 'total_bedrooms': 190.0,\n",
       " 'population': 537.0,\n",
       " 'households': 182.0,\n",
       " 'median_income': 3.5375,\n",
       " 'ocean_proximity': 'INLAND',\n",
       " 'rooms_per_household': 6.543956043956044,\n",
       " 'bedrooms_per_room': 0.15952980688497062,\n",
       " 'population_per_household': 2.9505494505494507}"
      ]
     },
     "execution_count": 129,
     "metadata": {},
     "output_type": "execute_result"
    }
   ],
   "source": [
    "val_dicts = df_val.to_dict(orient='records')\n",
    "val_dicts[0]"
   ]
  },
  {
   "cell_type": "code",
   "execution_count": 130,
   "id": "7baef9f0",
   "metadata": {},
   "outputs": [],
   "source": [
    "X_val = dv.transform(val_dicts)"
   ]
  },
  {
   "cell_type": "code",
   "execution_count": 131,
   "id": "66a0d757",
   "metadata": {},
   "outputs": [
    {
     "data": {
      "text/plain": [
       "(4128, 16)"
      ]
     },
     "execution_count": 131,
     "metadata": {},
     "output_type": "execute_result"
    }
   ],
   "source": [
    "X_val.shape"
   ]
  },
  {
   "cell_type": "markdown",
   "id": "6119763a",
   "metadata": {},
   "source": [
    "### Applying Logistic Regression"
   ]
  },
  {
   "cell_type": "code",
   "execution_count": 132,
   "id": "0d1cfca1",
   "metadata": {},
   "outputs": [
    {
     "data": {
      "text/plain": [
       "LogisticRegression(max_iter=1000, random_state=42, solver='liblinear')"
      ]
     },
     "execution_count": 132,
     "metadata": {},
     "output_type": "execute_result"
    }
   ],
   "source": [
    "from sklearn.linear_model import LogisticRegression\n",
    "model = LogisticRegression(solver=\"liblinear\", C=1.0, max_iter=1000, random_state=42)\n",
    "model.fit(X_train, y_train)"
   ]
  },
  {
   "cell_type": "code",
   "execution_count": 133,
   "id": "da0e3849",
   "metadata": {},
   "outputs": [],
   "source": [
    "y_pred = model.predict_proba(X_val)[:, 1]"
   ]
  },
  {
   "cell_type": "code",
   "execution_count": 134,
   "id": "41431278",
   "metadata": {},
   "outputs": [],
   "source": [
    "price_above_avg = y_pred > 0.5"
   ]
  },
  {
   "cell_type": "code",
   "execution_count": 136,
   "id": "de1a41ad",
   "metadata": {},
   "outputs": [
    {
     "data": {
      "text/plain": [
       "0.84"
      ]
     },
     "execution_count": 136,
     "metadata": {},
     "output_type": "execute_result"
    }
   ],
   "source": [
    "round((y_val == price_above_avg).mean(),2)"
   ]
  },
  {
   "cell_type": "markdown",
   "id": "9d858eb6",
   "metadata": {},
   "source": [
    "### Answer 4 - Accuracy of Model is 0.84"
   ]
  },
  {
   "cell_type": "markdown",
   "id": "ca881d10",
   "metadata": {},
   "source": [
    "### Question 5\n",
    "* Let's find the least useful feature using the feature elimination technique.\n",
    "* Train a model with all these features (using the same parameters as in Q4).\n",
    "* Now exclude each feature from this set and train a model without it. Record the accuracy for each model.\n",
    "* For each feature, calculate the difference between the original accuracy and the accuracy without the feature.\n",
    "* Which of following feature has the smallest difference?\n",
    "    * total_rooms\n",
    "    * total_bedrooms\n",
    "    * population\n",
    "    * households\n",
    "* note: the difference doesn't have to be positive"
   ]
  },
  {
   "cell_type": "code",
   "execution_count": 156,
   "id": "4c5b32f4",
   "metadata": {},
   "outputs": [],
   "source": [
    "small_model_features = ['total_rooms', 'total_bedrooms', 'population', 'households']"
   ]
  },
  {
   "cell_type": "code",
   "execution_count": 157,
   "id": "4609b79f",
   "metadata": {},
   "outputs": [
    {
     "data": {
      "text/plain": [
       "{'total_rooms': 1467.0,\n",
       " 'total_bedrooms': 381.0,\n",
       " 'population': 1404.0,\n",
       " 'households': 374.0}"
      ]
     },
     "execution_count": 157,
     "metadata": {},
     "output_type": "execute_result"
    }
   ],
   "source": [
    "dict_small = df_train[small_model_features].to_dict(orient='records')\n",
    "dict_small[0]"
   ]
  },
  {
   "cell_type": "code",
   "execution_count": 158,
   "id": "870d8abf",
   "metadata": {},
   "outputs": [],
   "source": [
    "X_train_small = dv.fit_transform(dict_small)"
   ]
  },
  {
   "cell_type": "code",
   "execution_count": 159,
   "id": "9cd82088",
   "metadata": {},
   "outputs": [
    {
     "data": {
      "text/plain": [
       "{'total_rooms': 1191.0,\n",
       " 'total_bedrooms': 190.0,\n",
       " 'population': 537.0,\n",
       " 'households': 182.0}"
      ]
     },
     "execution_count": 159,
     "metadata": {},
     "output_type": "execute_result"
    }
   ],
   "source": [
    "dict_small_val = df_val[small_model_features].to_dict(orient='records')\n",
    "dict_small_val[0]"
   ]
  },
  {
   "cell_type": "code",
   "execution_count": 160,
   "id": "4ac1a7f8",
   "metadata": {},
   "outputs": [],
   "source": [
    "X_val_small = dv.transform(dict_small_val)"
   ]
  },
  {
   "cell_type": "code",
   "execution_count": 161,
   "id": "2ccc3d62",
   "metadata": {},
   "outputs": [
    {
     "data": {
      "text/plain": [
       "LogisticRegression(max_iter=1000, random_state=42, solver='liblinear')"
      ]
     },
     "execution_count": 161,
     "metadata": {},
     "output_type": "execute_result"
    }
   ],
   "source": [
    "model_small = LogisticRegression(solver=\"liblinear\", C=1.0, max_iter=1000, random_state=42)\n",
    "model_small.fit(X_train_small, y_train)"
   ]
  },
  {
   "cell_type": "code",
   "execution_count": 163,
   "id": "7025561d",
   "metadata": {},
   "outputs": [],
   "source": [
    "y_pred_small = model_small.predict_proba(X_val_small)[:, 1]"
   ]
  },
  {
   "cell_type": "code",
   "execution_count": 164,
   "id": "aed81865",
   "metadata": {},
   "outputs": [],
   "source": [
    "price_above_avg_small = y_pred_small > 0.5"
   ]
  },
  {
   "cell_type": "code",
   "execution_count": 165,
   "id": "20e179e0",
   "metadata": {},
   "outputs": [
    {
     "data": {
      "text/plain": [
       "0.7095445736434108"
      ]
     },
     "execution_count": 165,
     "metadata": {},
     "output_type": "execute_result"
    }
   ],
   "source": [
    "og_accuracy = (y_val == price_above_avg_small).mean()\n",
    "og_accuracy"
   ]
  },
  {
   "cell_type": "markdown",
   "id": "4a67fb04",
   "metadata": {},
   "source": [
    "### Model without total_rooms"
   ]
  },
  {
   "cell_type": "code",
   "execution_count": 166,
   "id": "f43e6bdc",
   "metadata": {},
   "outputs": [],
   "source": [
    "small_model_features1 = ['total_bedrooms', 'population', 'households']"
   ]
  },
  {
   "cell_type": "code",
   "execution_count": 167,
   "id": "2ac085be",
   "metadata": {},
   "outputs": [
    {
     "data": {
      "text/plain": [
       "{'total_bedrooms': 381.0, 'population': 1404.0, 'households': 374.0}"
      ]
     },
     "execution_count": 167,
     "metadata": {},
     "output_type": "execute_result"
    }
   ],
   "source": [
    "dict_small1 = df_train[small_model_features1].to_dict(orient='records')\n",
    "dict_small1[0]"
   ]
  },
  {
   "cell_type": "code",
   "execution_count": 168,
   "id": "287c50d5",
   "metadata": {},
   "outputs": [],
   "source": [
    "X_train_small1 = dv.fit_transform(dict_small1)"
   ]
  },
  {
   "cell_type": "code",
   "execution_count": 169,
   "id": "256eeb21",
   "metadata": {},
   "outputs": [
    {
     "data": {
      "text/plain": [
       "{'total_bedrooms': 190.0, 'population': 537.0, 'households': 182.0}"
      ]
     },
     "execution_count": 169,
     "metadata": {},
     "output_type": "execute_result"
    }
   ],
   "source": [
    "dict_small_val1 = df_val[small_model_features1].to_dict(orient='records')\n",
    "dict_small_val1[0]"
   ]
  },
  {
   "cell_type": "code",
   "execution_count": 170,
   "id": "1a56bdff",
   "metadata": {},
   "outputs": [],
   "source": [
    "X_val_small1 = dv.transform(dict_small_val1)"
   ]
  },
  {
   "cell_type": "code",
   "execution_count": 171,
   "id": "6340a39e",
   "metadata": {},
   "outputs": [
    {
     "data": {
      "text/plain": [
       "LogisticRegression(max_iter=1000, random_state=42, solver='liblinear')"
      ]
     },
     "execution_count": 171,
     "metadata": {},
     "output_type": "execute_result"
    }
   ],
   "source": [
    "model_small1 = LogisticRegression(solver=\"liblinear\", C=1.0, max_iter=1000, random_state=42)\n",
    "model_small1.fit(X_train_small1, y_train)"
   ]
  },
  {
   "cell_type": "code",
   "execution_count": 175,
   "id": "186db2d6",
   "metadata": {},
   "outputs": [
    {
     "data": {
      "text/plain": [
       "0.6276647286821705"
      ]
     },
     "execution_count": 175,
     "metadata": {},
     "output_type": "execute_result"
    }
   ],
   "source": [
    "y_pred_small1 = model_small1.predict_proba(X_val_small1)[:, 1]\n",
    "price_above_avg_small1 = y_pred_small1 > 0.5\n",
    "accuracy_no_tot_rooms = (y_val == price_above_avg_small1).mean()\n",
    "accuracy_no_tot_rooms"
   ]
  },
  {
   "cell_type": "markdown",
   "id": "5f554e7c",
   "metadata": {},
   "source": [
    "### Model without total_bedrooms"
   ]
  },
  {
   "cell_type": "code",
   "execution_count": 176,
   "id": "641e4749",
   "metadata": {},
   "outputs": [
    {
     "data": {
      "text/plain": [
       "0.6608527131782945"
      ]
     },
     "execution_count": 176,
     "metadata": {},
     "output_type": "execute_result"
    }
   ],
   "source": [
    "small_model_features2 = ['total_rooms', 'population', 'households']\n",
    "\n",
    "dict_small2 = df_train[small_model_features2].to_dict(orient='records')\n",
    "X_train_small2 = dv.fit_transform(dict_small2)\\\n",
    "\n",
    "dict_small_val2 = df_val[small_model_features2].to_dict(orient='records')\n",
    "X_val_small2 = dv.transform(dict_small_val2)\n",
    "\n",
    "model_small2 = LogisticRegression(solver=\"liblinear\", C=1.0, max_iter=1000, random_state=42)\n",
    "model_small2.fit(X_train_small2, y_train)\n",
    "\n",
    "y_pred_small2 = model_small2.predict_proba(X_val_small2)[:, 1]\n",
    "price_above_avg_small2 = y_pred_small2 > 0.5\n",
    "accuracy_no_tot_bedrooms = (y_val == price_above_avg_small2).mean()\n",
    "accuracy_no_tot_bedrooms"
   ]
  },
  {
   "cell_type": "markdown",
   "id": "979c8cd3",
   "metadata": {},
   "source": [
    "### Model without population"
   ]
  },
  {
   "cell_type": "code",
   "execution_count": 177,
   "id": "f190703f",
   "metadata": {},
   "outputs": [
    {
     "data": {
      "text/plain": [
       "0.656734496124031"
      ]
     },
     "execution_count": 177,
     "metadata": {},
     "output_type": "execute_result"
    }
   ],
   "source": [
    "small_model_features3 = ['total_rooms', 'total_bedrooms', 'households']\n",
    "\n",
    "dict_small3 = df_train[small_model_features3].to_dict(orient='records')\n",
    "X_train_small3 = dv.fit_transform(dict_small3)\n",
    "\n",
    "dict_small_val3 = df_val[small_model_features3].to_dict(orient='records')\n",
    "X_val_small3 = dv.transform(dict_small_val3)\n",
    "\n",
    "model_small3 = LogisticRegression(solver=\"liblinear\", C=1.0, max_iter=1000, random_state=42)\n",
    "model_small3.fit(X_train_small3, y_train)\n",
    "\n",
    "y_pred_small3 = model_small3.predict_proba(X_val_small3)[:, 1]\n",
    "price_above_avg_small3 = y_pred_small3 > 0.5\n",
    "accuracy_no_pop = (y_val == price_above_avg_small3).mean()\n",
    "accuracy_no_pop"
   ]
  },
  {
   "cell_type": "markdown",
   "id": "5d974550",
   "metadata": {},
   "source": [
    "### Model without households"
   ]
  },
  {
   "cell_type": "code",
   "execution_count": 179,
   "id": "d5d6b075",
   "metadata": {},
   "outputs": [
    {
     "data": {
      "text/plain": [
       "0.6719961240310077"
      ]
     },
     "execution_count": 179,
     "metadata": {},
     "output_type": "execute_result"
    }
   ],
   "source": [
    "small_model_features4 = ['total_rooms', 'total_bedrooms', 'population']\n",
    "\n",
    "dict_small4 = df_train[small_model_features4].to_dict(orient='records')\n",
    "X_train_small4 = dv.fit_transform(dict_small4)\n",
    "\n",
    "dict_small_val4 = df_val[small_model_features4].to_dict(orient='records')\n",
    "X_val_small4 = dv.transform(dict_small_val4)\n",
    "\n",
    "model_small4 = LogisticRegression(solver=\"liblinear\", C=1.0, max_iter=1000, random_state=42)\n",
    "model_small4.fit(X_train_small4, y_train)\n",
    "\n",
    "y_pred_small4 = model_small4.predict_proba(X_val_small4)[:, 1]\n",
    "price_above_avg_small4 = y_pred_small4 > 0.5\n",
    "accuracy_no_households = (y_val == price_above_avg_small4).mean()\n",
    "accuracy_no_households"
   ]
  },
  {
   "cell_type": "code",
   "execution_count": 183,
   "id": "04e81f84",
   "metadata": {},
   "outputs": [
    {
     "data": {
      "text/plain": [
       "(0.7095445736434108,\n",
       " 0.6719961240310077,\n",
       " 0.656734496124031,\n",
       " 0.6608527131782945,\n",
       " 0.6276647286821705)"
      ]
     },
     "execution_count": 183,
     "metadata": {},
     "output_type": "execute_result"
    }
   ],
   "source": [
    "og_accuracy, accuracy_no_households, accuracy_no_pop, accuracy_no_tot_bedrooms, accuracy_no_tot_rooms"
   ]
  },
  {
   "cell_type": "code",
   "execution_count": 202,
   "id": "8e3ea82a",
   "metadata": {},
   "outputs": [
    {
     "data": {
      "text/plain": [
       "(0.03754844961240311,\n",
       " 0.05281007751937983,\n",
       " 0.04869186046511631,\n",
       " 0.08187984496124034)"
      ]
     },
     "execution_count": 202,
     "metadata": {},
     "output_type": "execute_result"
    }
   ],
   "source": [
    "og_accuracy - accuracy_no_households, og_accuracy - accuracy_no_pop, og_accuracy - accuracy_no_tot_bedrooms, og_accuracy - accuracy_no_tot_rooms"
   ]
  },
  {
   "cell_type": "markdown",
   "id": "7f9c6a5c",
   "metadata": {},
   "source": [
    "### Model with feature : households has the least difference in accuracy"
   ]
  },
  {
   "cell_type": "markdown",
   "id": "f6d35e0a",
   "metadata": {},
   "source": [
    "### Question 6\n",
    "* For this question, we'll see how to use a linear regression model from Scikit-Learn\n",
    "* We'll need to use the original column 'median_house_value'. Apply the logarithmic transformation to this column.\n",
    "* Fit the Ridge regression model (model = Ridge(alpha=a, solver=\"sag\", random_state=42)) on the training data.\n",
    "* This model has a parameter alpha. Let's try the following values: [0, 0.01, 0.1, 1, 10]\n",
    "* Which of these alphas leads to the best RMSE on the validation set? Round your RMSE scores to 3 decimal digits.\n",
    "* If there are multiple options, select the smallest alpha.\n",
    "\n",
    "* Options:\n",
    "\n",
    "    * 0\n",
    "    * 0.01\n",
    "    * 0.1\n",
    "    * 1\n",
    "    * 10\n"
   ]
  },
  {
   "cell_type": "code",
   "execution_count": 184,
   "id": "9a310674",
   "metadata": {},
   "outputs": [
    {
     "data": {
      "text/html": [
       "<div>\n",
       "<style scoped>\n",
       "    .dataframe tbody tr th:only-of-type {\n",
       "        vertical-align: middle;\n",
       "    }\n",
       "\n",
       "    .dataframe tbody tr th {\n",
       "        vertical-align: top;\n",
       "    }\n",
       "\n",
       "    .dataframe thead th {\n",
       "        text-align: right;\n",
       "    }\n",
       "</style>\n",
       "<table border=\"1\" class=\"dataframe\">\n",
       "  <thead>\n",
       "    <tr style=\"text-align: right;\">\n",
       "      <th></th>\n",
       "      <th>longitude</th>\n",
       "      <th>latitude</th>\n",
       "      <th>housing_median_age</th>\n",
       "      <th>total_rooms</th>\n",
       "      <th>total_bedrooms</th>\n",
       "      <th>population</th>\n",
       "      <th>households</th>\n",
       "      <th>median_income</th>\n",
       "      <th>median_house_value</th>\n",
       "      <th>ocean_proximity</th>\n",
       "      <th>rooms_per_household</th>\n",
       "      <th>bedrooms_per_room</th>\n",
       "      <th>population_per_household</th>\n",
       "      <th>above_average</th>\n",
       "    </tr>\n",
       "  </thead>\n",
       "  <tbody>\n",
       "    <tr>\n",
       "      <th>14196</th>\n",
       "      <td>-117.03</td>\n",
       "      <td>32.71</td>\n",
       "      <td>33.0</td>\n",
       "      <td>3126.0</td>\n",
       "      <td>627.0</td>\n",
       "      <td>2300.0</td>\n",
       "      <td>623.0</td>\n",
       "      <td>3.2596</td>\n",
       "      <td>103000.0</td>\n",
       "      <td>NEAR OCEAN</td>\n",
       "      <td>5.017657</td>\n",
       "      <td>0.200576</td>\n",
       "      <td>3.691814</td>\n",
       "      <td>0</td>\n",
       "    </tr>\n",
       "    <tr>\n",
       "      <th>8267</th>\n",
       "      <td>-118.16</td>\n",
       "      <td>33.77</td>\n",
       "      <td>49.0</td>\n",
       "      <td>3382.0</td>\n",
       "      <td>787.0</td>\n",
       "      <td>1314.0</td>\n",
       "      <td>756.0</td>\n",
       "      <td>3.8125</td>\n",
       "      <td>382100.0</td>\n",
       "      <td>NEAR OCEAN</td>\n",
       "      <td>4.473545</td>\n",
       "      <td>0.232703</td>\n",
       "      <td>1.738095</td>\n",
       "      <td>1</td>\n",
       "    </tr>\n",
       "    <tr>\n",
       "      <th>17445</th>\n",
       "      <td>-120.48</td>\n",
       "      <td>34.66</td>\n",
       "      <td>4.0</td>\n",
       "      <td>1897.0</td>\n",
       "      <td>331.0</td>\n",
       "      <td>915.0</td>\n",
       "      <td>336.0</td>\n",
       "      <td>4.1563</td>\n",
       "      <td>172600.0</td>\n",
       "      <td>NEAR OCEAN</td>\n",
       "      <td>5.645833</td>\n",
       "      <td>0.174486</td>\n",
       "      <td>2.723214</td>\n",
       "      <td>0</td>\n",
       "    </tr>\n",
       "    <tr>\n",
       "      <th>14265</th>\n",
       "      <td>-117.11</td>\n",
       "      <td>32.69</td>\n",
       "      <td>36.0</td>\n",
       "      <td>1421.0</td>\n",
       "      <td>367.0</td>\n",
       "      <td>1418.0</td>\n",
       "      <td>355.0</td>\n",
       "      <td>1.9425</td>\n",
       "      <td>93400.0</td>\n",
       "      <td>NEAR OCEAN</td>\n",
       "      <td>4.002817</td>\n",
       "      <td>0.258269</td>\n",
       "      <td>3.994366</td>\n",
       "      <td>0</td>\n",
       "    </tr>\n",
       "    <tr>\n",
       "      <th>2271</th>\n",
       "      <td>-119.80</td>\n",
       "      <td>36.78</td>\n",
       "      <td>43.0</td>\n",
       "      <td>2382.0</td>\n",
       "      <td>431.0</td>\n",
       "      <td>874.0</td>\n",
       "      <td>380.0</td>\n",
       "      <td>3.5542</td>\n",
       "      <td>96500.0</td>\n",
       "      <td>INLAND</td>\n",
       "      <td>6.268421</td>\n",
       "      <td>0.180940</td>\n",
       "      <td>2.300000</td>\n",
       "      <td>0</td>\n",
       "    </tr>\n",
       "  </tbody>\n",
       "</table>\n",
       "</div>"
      ],
      "text/plain": [
       "       longitude  latitude  housing_median_age  total_rooms  total_bedrooms  \\\n",
       "14196    -117.03     32.71                33.0       3126.0           627.0   \n",
       "8267     -118.16     33.77                49.0       3382.0           787.0   \n",
       "17445    -120.48     34.66                 4.0       1897.0           331.0   \n",
       "14265    -117.11     32.69                36.0       1421.0           367.0   \n",
       "2271     -119.80     36.78                43.0       2382.0           431.0   \n",
       "\n",
       "       population  households  median_income  median_house_value  \\\n",
       "14196      2300.0       623.0         3.2596            103000.0   \n",
       "8267       1314.0       756.0         3.8125            382100.0   \n",
       "17445       915.0       336.0         4.1563            172600.0   \n",
       "14265      1418.0       355.0         1.9425             93400.0   \n",
       "2271        874.0       380.0         3.5542             96500.0   \n",
       "\n",
       "      ocean_proximity  rooms_per_household  bedrooms_per_room  \\\n",
       "14196      NEAR OCEAN             5.017657           0.200576   \n",
       "8267       NEAR OCEAN             4.473545           0.232703   \n",
       "17445      NEAR OCEAN             5.645833           0.174486   \n",
       "14265      NEAR OCEAN             4.002817           0.258269   \n",
       "2271           INLAND             6.268421           0.180940   \n",
       "\n",
       "       population_per_household  above_average  \n",
       "14196                  3.691814              0  \n",
       "8267                   1.738095              1  \n",
       "17445                  2.723214              0  \n",
       "14265                  3.994366              0  \n",
       "2271                   2.300000              0  "
      ]
     },
     "execution_count": 184,
     "metadata": {},
     "output_type": "execute_result"
    }
   ],
   "source": [
    "df_full_train.head()"
   ]
  },
  {
   "cell_type": "markdown",
   "id": "6fec8612",
   "metadata": {},
   "source": [
    "## Split the Data"
   ]
  },
  {
   "cell_type": "code",
   "execution_count": 185,
   "id": "e6fa1f06",
   "metadata": {},
   "outputs": [
    {
     "data": {
      "text/plain": [
       "((12384, 14), (4128, 14), (4128, 14))"
      ]
     },
     "execution_count": 185,
     "metadata": {},
     "output_type": "execute_result"
    }
   ],
   "source": [
    "df_full_train, df_test = train_test_split(df, test_size=0.2, random_state=42)\n",
    "df_train, df_val = train_test_split(df_full_train, test_size=0.25, random_state=42)\n",
    "df_train.shape, df_test.shape, df_val.shape"
   ]
  },
  {
   "cell_type": "code",
   "execution_count": 188,
   "id": "f0676b8b",
   "metadata": {},
   "outputs": [],
   "source": [
    "y_train = np.log(df_train['median_house_value'].values)\n",
    "y_test = np.log(df_test['median_house_value'].values)\n",
    "y_val = np.log(df_val['median_house_value'].values)\n",
    "\n",
    "df_train.drop(columns= ['median_house_value', 'above_average'], inplace=True)\n",
    "df_test.drop(columns= ['median_house_value', 'above_average'], inplace=True)\n",
    "df_val.drop(columns= ['median_house_value', 'above_average'], inplace=True)"
   ]
  },
  {
   "cell_type": "markdown",
   "id": "c98d39e3",
   "metadata": {},
   "source": [
    "## Apply Model - Ridge Regression"
   ]
  },
  {
   "cell_type": "code",
   "execution_count": 201,
   "id": "c80932fd",
   "metadata": {},
   "outputs": [
    {
     "data": {
      "text/plain": [
       "{0: 0.524067160039661,\n",
       " 0.01: 0.5240671600567748,\n",
       " 0.1: 0.5240671602193535,\n",
       " 1: 0.5240671618537078,\n",
       " 10: 0.5240671781715663}"
      ]
     },
     "execution_count": 201,
     "metadata": {},
     "output_type": "execute_result"
    }
   ],
   "source": [
    "from sklearn.linear_model import Ridge\n",
    "from sklearn import metrics\n",
    "\n",
    "dict_train = df_train.to_dict(orient='records')\n",
    "X_train = dv.fit_transform(dict_train)\n",
    "\n",
    "dict_val = df_val.to_dict(orient='records')\n",
    "X_val = dv.transform(dict_val)\n",
    "\n",
    "a = [0, 0.01, 0.1, 1, 10]\n",
    "rmse_dict = {}\n",
    "for i in a:\n",
    "    model = Ridge(alpha=i, solver=\"sag\", random_state=42)\n",
    "    model.fit(X_train, y_train)\n",
    "\n",
    "# print(model.intercept_)\n",
    "\n",
    "# print(model.coef_)\n",
    "\n",
    "    y_pred = model.predict(X_val)\n",
    "\n",
    "    mae = metrics.mean_absolute_error(y_val, y_pred)\n",
    "\n",
    "    mse = metrics.mean_squared_error(y_val, y_pred)\n",
    "\n",
    "    rmse = np.sqrt(metrics.mean_squared_error(y_val, y_pred))\n",
    "    rmse_dict[i] = rmse\n",
    "rmse_dict "
   ]
  },
  {
   "cell_type": "markdown",
   "id": "e1fbeb8c",
   "metadata": {},
   "source": [
    "### Smallest RMSE is 0 and biggest rmse is 10"
   ]
  },
  {
   "cell_type": "code",
   "execution_count": null,
   "id": "278221db",
   "metadata": {},
   "outputs": [],
   "source": []
  }
 ],
 "metadata": {
  "kernelspec": {
   "display_name": "Python 3 (ipykernel)",
   "language": "python",
   "name": "python3"
  },
  "language_info": {
   "codemirror_mode": {
    "name": "ipython",
    "version": 3
   },
   "file_extension": ".py",
   "mimetype": "text/x-python",
   "name": "python",
   "nbconvert_exporter": "python",
   "pygments_lexer": "ipython3",
   "version": "3.9.12"
  }
 },
 "nbformat": 4,
 "nbformat_minor": 5
}
