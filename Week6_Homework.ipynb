{
 "cells": [
  {
   "cell_type": "markdown",
   "id": "af72a5f1",
   "metadata": {},
   "source": [
    "## Homework\n",
    "The goal of this homework is to create a regression model for predicting housing prices (column 'median_house_value').In this homework we'll again use the California Housing Prices dataset - the same one we used in homework 2 and 3."
   ]
  },
  {
   "cell_type": "markdown",
   "id": "5381d67a",
   "metadata": {},
   "source": [
    "### You can take the dataset from Kaggle or download using following technique:"
   ]
  },
  {
   "cell_type": "code",
   "execution_count": 107,
   "id": "099f9d85",
   "metadata": {},
   "outputs": [
    {
     "data": {
      "text/plain": [
       "('housing.csv', <http.client.HTTPMessage at 0x152f0ec14f0>)"
      ]
     },
     "execution_count": 107,
     "metadata": {},
     "output_type": "execute_result"
    }
   ],
   "source": [
    "# https://stackoverflow.com/questions/57748687/downloading-files-in-jupyter-wget-on-windows\n",
    "import urllib.request\n",
    "url = 'https://raw.githubusercontent.com/alexeygrigorev/datasets/master/housing.csv'\n",
    "filename = 'housing.csv'\n",
    "urllib.request.urlretrieve(url, filename)"
   ]
  },
  {
   "cell_type": "code",
   "execution_count": 108,
   "id": "061b75b9",
   "metadata": {},
   "outputs": [],
   "source": [
    "import pandas as pd\n",
    "import numpy as np\n",
    "import matplotlib.pyplot as plt\n",
    "import seaborn as sns"
   ]
  },
  {
   "cell_type": "code",
   "execution_count": 109,
   "id": "ac3c60cf",
   "metadata": {},
   "outputs": [
    {
     "data": {
      "text/html": [
       "<div>\n",
       "<style scoped>\n",
       "    .dataframe tbody tr th:only-of-type {\n",
       "        vertical-align: middle;\n",
       "    }\n",
       "\n",
       "    .dataframe tbody tr th {\n",
       "        vertical-align: top;\n",
       "    }\n",
       "\n",
       "    .dataframe thead th {\n",
       "        text-align: right;\n",
       "    }\n",
       "</style>\n",
       "<table border=\"1\" class=\"dataframe\">\n",
       "  <thead>\n",
       "    <tr style=\"text-align: right;\">\n",
       "      <th></th>\n",
       "      <th>longitude</th>\n",
       "      <th>latitude</th>\n",
       "      <th>housing_median_age</th>\n",
       "      <th>total_rooms</th>\n",
       "      <th>total_bedrooms</th>\n",
       "      <th>population</th>\n",
       "      <th>households</th>\n",
       "      <th>median_income</th>\n",
       "      <th>median_house_value</th>\n",
       "      <th>ocean_proximity</th>\n",
       "    </tr>\n",
       "  </thead>\n",
       "  <tbody>\n",
       "    <tr>\n",
       "      <th>0</th>\n",
       "      <td>-122.23</td>\n",
       "      <td>37.88</td>\n",
       "      <td>41.0</td>\n",
       "      <td>880.0</td>\n",
       "      <td>129.0</td>\n",
       "      <td>322.0</td>\n",
       "      <td>126.0</td>\n",
       "      <td>8.3252</td>\n",
       "      <td>452600.0</td>\n",
       "      <td>NEAR BAY</td>\n",
       "    </tr>\n",
       "    <tr>\n",
       "      <th>1</th>\n",
       "      <td>-122.22</td>\n",
       "      <td>37.86</td>\n",
       "      <td>21.0</td>\n",
       "      <td>7099.0</td>\n",
       "      <td>1106.0</td>\n",
       "      <td>2401.0</td>\n",
       "      <td>1138.0</td>\n",
       "      <td>8.3014</td>\n",
       "      <td>358500.0</td>\n",
       "      <td>NEAR BAY</td>\n",
       "    </tr>\n",
       "    <tr>\n",
       "      <th>2</th>\n",
       "      <td>-122.24</td>\n",
       "      <td>37.85</td>\n",
       "      <td>52.0</td>\n",
       "      <td>1467.0</td>\n",
       "      <td>190.0</td>\n",
       "      <td>496.0</td>\n",
       "      <td>177.0</td>\n",
       "      <td>7.2574</td>\n",
       "      <td>352100.0</td>\n",
       "      <td>NEAR BAY</td>\n",
       "    </tr>\n",
       "    <tr>\n",
       "      <th>3</th>\n",
       "      <td>-122.25</td>\n",
       "      <td>37.85</td>\n",
       "      <td>52.0</td>\n",
       "      <td>1274.0</td>\n",
       "      <td>235.0</td>\n",
       "      <td>558.0</td>\n",
       "      <td>219.0</td>\n",
       "      <td>5.6431</td>\n",
       "      <td>341300.0</td>\n",
       "      <td>NEAR BAY</td>\n",
       "    </tr>\n",
       "    <tr>\n",
       "      <th>4</th>\n",
       "      <td>-122.25</td>\n",
       "      <td>37.85</td>\n",
       "      <td>52.0</td>\n",
       "      <td>1627.0</td>\n",
       "      <td>280.0</td>\n",
       "      <td>565.0</td>\n",
       "      <td>259.0</td>\n",
       "      <td>3.8462</td>\n",
       "      <td>342200.0</td>\n",
       "      <td>NEAR BAY</td>\n",
       "    </tr>\n",
       "  </tbody>\n",
       "</table>\n",
       "</div>"
      ],
      "text/plain": [
       "   longitude  latitude  housing_median_age  total_rooms  total_bedrooms  \\\n",
       "0    -122.23     37.88                41.0        880.0           129.0   \n",
       "1    -122.22     37.86                21.0       7099.0          1106.0   \n",
       "2    -122.24     37.85                52.0       1467.0           190.0   \n",
       "3    -122.25     37.85                52.0       1274.0           235.0   \n",
       "4    -122.25     37.85                52.0       1627.0           280.0   \n",
       "\n",
       "   population  households  median_income  median_house_value ocean_proximity  \n",
       "0       322.0       126.0         8.3252            452600.0        NEAR BAY  \n",
       "1      2401.0      1138.0         8.3014            358500.0        NEAR BAY  \n",
       "2       496.0       177.0         7.2574            352100.0        NEAR BAY  \n",
       "3       558.0       219.0         5.6431            341300.0        NEAR BAY  \n",
       "4       565.0       259.0         3.8462            342200.0        NEAR BAY  "
      ]
     },
     "execution_count": 109,
     "metadata": {},
     "output_type": "execute_result"
    }
   ],
   "source": [
    "df = pd.read_csv('housing.csv')\n",
    "df.head()"
   ]
  },
  {
   "cell_type": "markdown",
   "id": "9502773f",
   "metadata": {},
   "source": [
    "### Loading the data\n",
    "Use only the following columns:\n",
    "\n",
    "* 'latitude',\n",
    "\n",
    "* 'longitude',\n",
    "\n",
    "* 'housing_median_age',\n",
    "\n",
    "* 'total_rooms',\n",
    "\n",
    "* 'total_bedrooms',\n",
    "\n",
    "* 'population',\n",
    "\n",
    "* 'households',\n",
    "\n",
    "* 'median_income',\n",
    "\n",
    "* 'median_house_value',\n",
    "\n",
    "* 'ocean_proximity'\n",
    "\n",
    "* Fill NAs with 0.\n",
    "\n",
    "* Apply the log tranform to median_house_value.\n",
    "\n",
    "* Do train/validation/test split with 60%/20%/20% distribution.\n",
    "\n",
    "* Use the train_test_split function and set the random_state parameter to 1.\n",
    "\n",
    "* Use DictVectorizer to turn the dataframe into matrices."
   ]
  },
  {
   "cell_type": "code",
   "execution_count": 110,
   "id": "93713fe0",
   "metadata": {},
   "outputs": [],
   "source": [
    "cols = ['latitude',\n",
    "\n",
    "'longitude',\n",
    "\n",
    "'housing_median_age',\n",
    "\n",
    "'total_rooms',\n",
    "\n",
    "'total_bedrooms',\n",
    "\n",
    "'population',\n",
    "\n",
    "'households',\n",
    "\n",
    "'median_income',\n",
    "\n",
    "'median_house_value',\n",
    "\n",
    "'ocean_proximity']"
   ]
  },
  {
   "cell_type": "code",
   "execution_count": 111,
   "id": "a03e71fb",
   "metadata": {},
   "outputs": [
    {
     "data": {
      "text/html": [
       "<div>\n",
       "<style scoped>\n",
       "    .dataframe tbody tr th:only-of-type {\n",
       "        vertical-align: middle;\n",
       "    }\n",
       "\n",
       "    .dataframe tbody tr th {\n",
       "        vertical-align: top;\n",
       "    }\n",
       "\n",
       "    .dataframe thead th {\n",
       "        text-align: right;\n",
       "    }\n",
       "</style>\n",
       "<table border=\"1\" class=\"dataframe\">\n",
       "  <thead>\n",
       "    <tr style=\"text-align: right;\">\n",
       "      <th></th>\n",
       "      <th>latitude</th>\n",
       "      <th>longitude</th>\n",
       "      <th>housing_median_age</th>\n",
       "      <th>total_rooms</th>\n",
       "      <th>total_bedrooms</th>\n",
       "      <th>population</th>\n",
       "      <th>households</th>\n",
       "      <th>median_income</th>\n",
       "      <th>median_house_value</th>\n",
       "      <th>ocean_proximity</th>\n",
       "    </tr>\n",
       "  </thead>\n",
       "  <tbody>\n",
       "    <tr>\n",
       "      <th>0</th>\n",
       "      <td>37.88</td>\n",
       "      <td>-122.23</td>\n",
       "      <td>41.0</td>\n",
       "      <td>880.0</td>\n",
       "      <td>129.0</td>\n",
       "      <td>322.0</td>\n",
       "      <td>126.0</td>\n",
       "      <td>8.3252</td>\n",
       "      <td>452600.0</td>\n",
       "      <td>NEAR BAY</td>\n",
       "    </tr>\n",
       "    <tr>\n",
       "      <th>1</th>\n",
       "      <td>37.86</td>\n",
       "      <td>-122.22</td>\n",
       "      <td>21.0</td>\n",
       "      <td>7099.0</td>\n",
       "      <td>1106.0</td>\n",
       "      <td>2401.0</td>\n",
       "      <td>1138.0</td>\n",
       "      <td>8.3014</td>\n",
       "      <td>358500.0</td>\n",
       "      <td>NEAR BAY</td>\n",
       "    </tr>\n",
       "    <tr>\n",
       "      <th>2</th>\n",
       "      <td>37.85</td>\n",
       "      <td>-122.24</td>\n",
       "      <td>52.0</td>\n",
       "      <td>1467.0</td>\n",
       "      <td>190.0</td>\n",
       "      <td>496.0</td>\n",
       "      <td>177.0</td>\n",
       "      <td>7.2574</td>\n",
       "      <td>352100.0</td>\n",
       "      <td>NEAR BAY</td>\n",
       "    </tr>\n",
       "    <tr>\n",
       "      <th>3</th>\n",
       "      <td>37.85</td>\n",
       "      <td>-122.25</td>\n",
       "      <td>52.0</td>\n",
       "      <td>1274.0</td>\n",
       "      <td>235.0</td>\n",
       "      <td>558.0</td>\n",
       "      <td>219.0</td>\n",
       "      <td>5.6431</td>\n",
       "      <td>341300.0</td>\n",
       "      <td>NEAR BAY</td>\n",
       "    </tr>\n",
       "    <tr>\n",
       "      <th>4</th>\n",
       "      <td>37.85</td>\n",
       "      <td>-122.25</td>\n",
       "      <td>52.0</td>\n",
       "      <td>1627.0</td>\n",
       "      <td>280.0</td>\n",
       "      <td>565.0</td>\n",
       "      <td>259.0</td>\n",
       "      <td>3.8462</td>\n",
       "      <td>342200.0</td>\n",
       "      <td>NEAR BAY</td>\n",
       "    </tr>\n",
       "  </tbody>\n",
       "</table>\n",
       "</div>"
      ],
      "text/plain": [
       "   latitude  longitude  housing_median_age  total_rooms  total_bedrooms  \\\n",
       "0     37.88    -122.23                41.0        880.0           129.0   \n",
       "1     37.86    -122.22                21.0       7099.0          1106.0   \n",
       "2     37.85    -122.24                52.0       1467.0           190.0   \n",
       "3     37.85    -122.25                52.0       1274.0           235.0   \n",
       "4     37.85    -122.25                52.0       1627.0           280.0   \n",
       "\n",
       "   population  households  median_income  median_house_value ocean_proximity  \n",
       "0       322.0       126.0         8.3252            452600.0        NEAR BAY  \n",
       "1      2401.0      1138.0         8.3014            358500.0        NEAR BAY  \n",
       "2       496.0       177.0         7.2574            352100.0        NEAR BAY  \n",
       "3       558.0       219.0         5.6431            341300.0        NEAR BAY  \n",
       "4       565.0       259.0         3.8462            342200.0        NEAR BAY  "
      ]
     },
     "execution_count": 111,
     "metadata": {},
     "output_type": "execute_result"
    }
   ],
   "source": [
    "df_new = df[cols]\n",
    "df_new.head()"
   ]
  },
  {
   "cell_type": "markdown",
   "id": "26e6300a",
   "metadata": {},
   "source": [
    "#### Fill NAs with 0"
   ]
  },
  {
   "cell_type": "code",
   "execution_count": 112,
   "id": "791ecb4c",
   "metadata": {},
   "outputs": [
    {
     "data": {
      "text/plain": [
       "latitude                0\n",
       "longitude               0\n",
       "housing_median_age      0\n",
       "total_rooms             0\n",
       "total_bedrooms        207\n",
       "population              0\n",
       "households              0\n",
       "median_income           0\n",
       "median_house_value      0\n",
       "ocean_proximity         0\n",
       "dtype: int64"
      ]
     },
     "execution_count": 112,
     "metadata": {},
     "output_type": "execute_result"
    }
   ],
   "source": [
    "df_new.isna().sum()"
   ]
  },
  {
   "cell_type": "code",
   "execution_count": 113,
   "id": "075b76e6",
   "metadata": {},
   "outputs": [],
   "source": [
    "df_new['total_bedrooms'] = df_new['total_bedrooms'].fillna(0)"
   ]
  },
  {
   "cell_type": "code",
   "execution_count": 114,
   "id": "cc05b70b",
   "metadata": {},
   "outputs": [
    {
     "data": {
      "text/plain": [
       "latitude              0\n",
       "longitude             0\n",
       "housing_median_age    0\n",
       "total_rooms           0\n",
       "total_bedrooms        0\n",
       "population            0\n",
       "households            0\n",
       "median_income         0\n",
       "median_house_value    0\n",
       "ocean_proximity       0\n",
       "dtype: int64"
      ]
     },
     "execution_count": 114,
     "metadata": {},
     "output_type": "execute_result"
    }
   ],
   "source": [
    "df_new.isna().sum()"
   ]
  },
  {
   "cell_type": "markdown",
   "id": "55aa6031",
   "metadata": {},
   "source": [
    "#### Apply the log tranform to median_house_value."
   ]
  },
  {
   "cell_type": "code",
   "execution_count": 115,
   "id": "a456108d",
   "metadata": {},
   "outputs": [
    {
     "data": {
      "text/html": [
       "<div>\n",
       "<style scoped>\n",
       "    .dataframe tbody tr th:only-of-type {\n",
       "        vertical-align: middle;\n",
       "    }\n",
       "\n",
       "    .dataframe tbody tr th {\n",
       "        vertical-align: top;\n",
       "    }\n",
       "\n",
       "    .dataframe thead th {\n",
       "        text-align: right;\n",
       "    }\n",
       "</style>\n",
       "<table border=\"1\" class=\"dataframe\">\n",
       "  <thead>\n",
       "    <tr style=\"text-align: right;\">\n",
       "      <th></th>\n",
       "      <th>latitude</th>\n",
       "      <th>longitude</th>\n",
       "      <th>housing_median_age</th>\n",
       "      <th>total_rooms</th>\n",
       "      <th>total_bedrooms</th>\n",
       "      <th>population</th>\n",
       "      <th>households</th>\n",
       "      <th>median_income</th>\n",
       "      <th>median_house_value</th>\n",
       "      <th>ocean_proximity</th>\n",
       "    </tr>\n",
       "  </thead>\n",
       "  <tbody>\n",
       "    <tr>\n",
       "      <th>0</th>\n",
       "      <td>37.88</td>\n",
       "      <td>-122.23</td>\n",
       "      <td>41.0</td>\n",
       "      <td>880.0</td>\n",
       "      <td>129.0</td>\n",
       "      <td>322.0</td>\n",
       "      <td>126.0</td>\n",
       "      <td>8.3252</td>\n",
       "      <td>13.022764</td>\n",
       "      <td>NEAR BAY</td>\n",
       "    </tr>\n",
       "    <tr>\n",
       "      <th>1</th>\n",
       "      <td>37.86</td>\n",
       "      <td>-122.22</td>\n",
       "      <td>21.0</td>\n",
       "      <td>7099.0</td>\n",
       "      <td>1106.0</td>\n",
       "      <td>2401.0</td>\n",
       "      <td>1138.0</td>\n",
       "      <td>8.3014</td>\n",
       "      <td>12.789684</td>\n",
       "      <td>NEAR BAY</td>\n",
       "    </tr>\n",
       "    <tr>\n",
       "      <th>2</th>\n",
       "      <td>37.85</td>\n",
       "      <td>-122.24</td>\n",
       "      <td>52.0</td>\n",
       "      <td>1467.0</td>\n",
       "      <td>190.0</td>\n",
       "      <td>496.0</td>\n",
       "      <td>177.0</td>\n",
       "      <td>7.2574</td>\n",
       "      <td>12.771671</td>\n",
       "      <td>NEAR BAY</td>\n",
       "    </tr>\n",
       "    <tr>\n",
       "      <th>3</th>\n",
       "      <td>37.85</td>\n",
       "      <td>-122.25</td>\n",
       "      <td>52.0</td>\n",
       "      <td>1274.0</td>\n",
       "      <td>235.0</td>\n",
       "      <td>558.0</td>\n",
       "      <td>219.0</td>\n",
       "      <td>5.6431</td>\n",
       "      <td>12.740517</td>\n",
       "      <td>NEAR BAY</td>\n",
       "    </tr>\n",
       "    <tr>\n",
       "      <th>4</th>\n",
       "      <td>37.85</td>\n",
       "      <td>-122.25</td>\n",
       "      <td>52.0</td>\n",
       "      <td>1627.0</td>\n",
       "      <td>280.0</td>\n",
       "      <td>565.0</td>\n",
       "      <td>259.0</td>\n",
       "      <td>3.8462</td>\n",
       "      <td>12.743151</td>\n",
       "      <td>NEAR BAY</td>\n",
       "    </tr>\n",
       "  </tbody>\n",
       "</table>\n",
       "</div>"
      ],
      "text/plain": [
       "   latitude  longitude  housing_median_age  total_rooms  total_bedrooms  \\\n",
       "0     37.88    -122.23                41.0        880.0           129.0   \n",
       "1     37.86    -122.22                21.0       7099.0          1106.0   \n",
       "2     37.85    -122.24                52.0       1467.0           190.0   \n",
       "3     37.85    -122.25                52.0       1274.0           235.0   \n",
       "4     37.85    -122.25                52.0       1627.0           280.0   \n",
       "\n",
       "   population  households  median_income  median_house_value ocean_proximity  \n",
       "0       322.0       126.0         8.3252           13.022764        NEAR BAY  \n",
       "1      2401.0      1138.0         8.3014           12.789684        NEAR BAY  \n",
       "2       496.0       177.0         7.2574           12.771671        NEAR BAY  \n",
       "3       558.0       219.0         5.6431           12.740517        NEAR BAY  \n",
       "4       565.0       259.0         3.8462           12.743151        NEAR BAY  "
      ]
     },
     "execution_count": 115,
     "metadata": {},
     "output_type": "execute_result"
    }
   ],
   "source": [
    "df_new['median_house_value'] = np.log(df_new['median_house_value'])\n",
    "df_new.head()"
   ]
  },
  {
   "cell_type": "markdown",
   "id": "3695d601",
   "metadata": {},
   "source": [
    "#### * Do train/validation/test split with 60%/20%/20% distribution.\n",
    "#### * Use the train_test_split function and set the random_state parameter to 1"
   ]
  },
  {
   "cell_type": "code",
   "execution_count": 116,
   "id": "9b218d59",
   "metadata": {},
   "outputs": [
    {
     "data": {
      "text/plain": [
       "((12384, 10), (4128, 10), (4128, 10))"
      ]
     },
     "execution_count": 116,
     "metadata": {},
     "output_type": "execute_result"
    }
   ],
   "source": [
    "from sklearn.model_selection import train_test_split\n",
    "df_full_train, df_test = train_test_split(df_new, test_size=0.2, random_state=1)\n",
    "df_train, df_val = train_test_split(df_full_train, test_size=0.25, random_state=1)\n",
    "\n",
    "df_train.shape, df_test.shape, df_val.shape"
   ]
  },
  {
   "cell_type": "code",
   "execution_count": 117,
   "id": "cea62976",
   "metadata": {},
   "outputs": [],
   "source": [
    "y_train = df_train['median_house_value'].values\n",
    "y_test = df_test['median_house_value'].values\n",
    "y_val = df_val['median_house_value'].values\n",
    "\n",
    "del df_train['median_house_value']\n",
    "del df_test['median_house_value']\n",
    "del df_val['median_house_value']"
   ]
  },
  {
   "cell_type": "markdown",
   "id": "4e969390",
   "metadata": {},
   "source": [
    "#### Use DictVectorizer to turn the dataframe into matrices"
   ]
  },
  {
   "cell_type": "code",
   "execution_count": 118,
   "id": "c751c850",
   "metadata": {},
   "outputs": [],
   "source": [
    "from sklearn.feature_extraction import DictVectorizer\n",
    "\n",
    "dv = DictVectorizer(sparse=False)\n",
    "\n",
    "train_dict = df_train.to_dict(orient='records')\n",
    "X_train = dv.fit_transform(train_dict)\n",
    "\n",
    "val_dict = df_val.to_dict(orient='records')\n",
    "X_val = dv.transform(val_dict)\n",
    "\n",
    "test_dict = df_test.to_dict(orient='records')\n",
    "X_test = dv.transform(test_dict)\n"
   ]
  },
  {
   "cell_type": "markdown",
   "id": "c6912a5f",
   "metadata": {},
   "source": [
    "### Question 1\n",
    "Let's train a decision tree regressor to predict the median_house_value variable.\n",
    "\n",
    "* Train a model with max_depth=1.\n",
    "* Which feature is used for splitting the data?\n",
    "\n",
    "* ocean_proximity=INLAND\n",
    "* total_rooms\n",
    "* latitude\n",
    "* population"
   ]
  },
  {
   "cell_type": "code",
   "execution_count": 119,
   "id": "d5a463f1",
   "metadata": {},
   "outputs": [],
   "source": [
    "from sklearn.tree import DecisionTreeRegressor\n",
    "\n",
    "model = DecisionTreeRegressor(max_depth=1)\n",
    "\n",
    "model.fit(X_train, y_train)\n",
    "\n",
    "y_pred = model.predict(X_val)"
   ]
  },
  {
   "cell_type": "code",
   "execution_count": 120,
   "id": "47de2c63",
   "metadata": {},
   "outputs": [
    {
     "name": "stdout",
     "output_type": "stream",
     "text": [
      "|--- ocean_proximity=INLAND <= 0.50\n",
      "|   |--- value: [12.31]\n",
      "|--- ocean_proximity=INLAND >  0.50\n",
      "|   |--- value: [11.61]\n",
      "\n"
     ]
    },
    {
     "name": "stderr",
     "output_type": "stream",
     "text": [
      "C:\\ProgramData\\Anaconda3\\lib\\site-packages\\sklearn\\utils\\deprecation.py:87: FutureWarning: Function get_feature_names is deprecated; get_feature_names is deprecated in 1.0 and will be removed in 1.2. Please use get_feature_names_out instead.\n",
      "  warnings.warn(msg, category=FutureWarning)\n"
     ]
    }
   ],
   "source": [
    "from sklearn.tree import export_text\n",
    "print(export_text(model, feature_names=dv.get_feature_names()))"
   ]
  },
  {
   "cell_type": "markdown",
   "id": "aa4f6a74",
   "metadata": {},
   "source": [
    "### Answer 1 - ocean_proximity=INLAND"
   ]
  },
  {
   "cell_type": "markdown",
   "id": "3d8c9ceb",
   "metadata": {},
   "source": [
    "### Question 2\n",
    "Train a random forest model with these parameters:\n",
    "\n",
    "* n_estimators=10\n",
    "* random_state=1\n",
    "* n_jobs=-1 (optional - to make training faster)\n",
    "* What's the RMSE of this model on validation?\n",
    "\n",
    "    * 0.05\n",
    "    * 0.25\n",
    "    * 0.55\n",
    "    * 0.85"
   ]
  },
  {
   "cell_type": "code",
   "execution_count": 121,
   "id": "23e71fc7",
   "metadata": {},
   "outputs": [
    {
     "name": "stdout",
     "output_type": "stream",
     "text": [
      "0.06\n"
     ]
    }
   ],
   "source": [
    "from sklearn.ensemble import RandomForestRegressor\n",
    "from sklearn.metrics import mean_squared_error\n",
    "rfr = RandomForestRegressor(n_estimators=10, random_state=1, n_jobs=-1)\n",
    "rfr.fit(X_train, y_train)\n",
    "\n",
    "y_pred = rfr.predict(X_val)\n",
    "\n",
    "rmse = mean_squared_error(y_val, y_pred)\n",
    "\n",
    "print(rmse.round(3))"
   ]
  },
  {
   "cell_type": "markdown",
   "id": "a99f3b99",
   "metadata": {},
   "source": [
    "### Answer 2 - RMSE is 0.05"
   ]
  },
  {
   "cell_type": "markdown",
   "id": "15432954",
   "metadata": {},
   "source": [
    "### Question 3\n",
    "* Now let's experiment with the n_estimators parameter\n",
    "\n",
    "* Try different values of this parameter from 10 to 200 with step 10.\n",
    "* Set random_state to 1.\n",
    "* Evaluate the model on the validation dataset.\n",
    "* After which value of n_estimators does RMSE stop improving?\n",
    "\n",
    "    * 10\n",
    "    * 50\n",
    "    * 70\n",
    "    * 150"
   ]
  },
  {
   "cell_type": "code",
   "execution_count": 122,
   "id": "207193a3",
   "metadata": {},
   "outputs": [
    {
     "name": "stdout",
     "output_type": "stream",
     "text": [
      "10 : 0.06\n",
      "20 : 0.057\n",
      "30 : 0.055\n",
      "40 : 0.055\n",
      "50 : 0.054\n",
      "60 : 0.054\n",
      "70 : 0.054\n",
      "80 : 0.054\n",
      "90 : 0.054\n",
      "100 : 0.054\n",
      "110 : 0.054\n",
      "120 : 0.054\n",
      "130 : 0.054\n",
      "140 : 0.054\n",
      "150 : 0.054\n",
      "160 : 0.054\n",
      "170 : 0.054\n",
      "180 : 0.054\n",
      "190 : 0.054\n",
      "200 : 0.054\n"
     ]
    }
   ],
   "source": [
    "for r in range (10, 201, 10):\n",
    "    rfr = RandomForestRegressor(n_estimators=r, random_state=1, n_jobs=-1)\n",
    "    rfr.fit(X_train, y_train)\n",
    "\n",
    "    y_pred = rfr.predict(X_val)\n",
    "\n",
    "    rmse = mean_squared_error(y_val, y_pred)\n",
    "\n",
    "    print(f\"{r} : {rmse.round(3)}\")"
   ]
  },
  {
   "cell_type": "markdown",
   "id": "4a0694cb",
   "metadata": {},
   "source": [
    "### Answer 3 - RMSE stops improving after n_estimators = 50."
   ]
  },
  {
   "cell_type": "markdown",
   "id": "302a407c",
   "metadata": {},
   "source": [
    "### Question 4\n",
    "Let's select the best max_depth:\n",
    "\n",
    "* Try different values of max_depth: [10, 15, 20, 25]\n",
    "* For each of these values, try different values of n_estimators from 10 till 200 (with step 10)\n",
    "* Fix the random seed: random_state=1\n",
    "* What's the best max_depth:\n",
    "\n",
    "    * 10\n",
    "    * 15\n",
    "    * 20\n",
    "    * 25"
   ]
  },
  {
   "cell_type": "code",
   "execution_count": 123,
   "id": "b7d4c8c1",
   "metadata": {},
   "outputs": [
    {
     "name": "stdout",
     "output_type": "stream",
     "text": [
      "10, 10 : 0.065\n",
      "10, 20 : 0.064\n",
      "10, 30 : 0.063\n",
      "10, 40 : 0.063\n",
      "10, 50 : 0.063\n",
      "10, 60 : 0.063\n",
      "10, 70 : 0.062\n",
      "10, 80 : 0.062\n",
      "10, 90 : 0.062\n",
      "10, 100 : 0.062\n",
      "10, 110 : 0.062\n",
      "10, 120 : 0.062\n",
      "10, 130 : 0.062\n",
      "10, 140 : 0.062\n",
      "10, 150 : 0.062\n",
      "10, 160 : 0.062\n",
      "10, 170 : 0.062\n",
      "10, 180 : 0.062\n",
      "10, 190 : 0.062\n",
      "10, 200 : 0.062\n",
      "15, 10 : 0.06\n",
      "15, 20 : 0.058\n",
      "15, 30 : 0.056\n",
      "15, 40 : 0.056\n",
      "15, 50 : 0.055\n",
      "15, 60 : 0.055\n",
      "15, 70 : 0.055\n",
      "15, 80 : 0.055\n",
      "15, 90 : 0.055\n",
      "15, 100 : 0.055\n",
      "15, 110 : 0.055\n",
      "15, 120 : 0.055\n",
      "15, 130 : 0.055\n",
      "15, 140 : 0.055\n",
      "15, 150 : 0.054\n",
      "15, 160 : 0.054\n",
      "15, 170 : 0.054\n",
      "15, 180 : 0.054\n",
      "15, 190 : 0.055\n",
      "15, 200 : 0.054\n",
      "20, 10 : 0.061\n",
      "20, 20 : 0.057\n",
      "20, 30 : 0.055\n",
      "20, 40 : 0.055\n",
      "20, 50 : 0.054\n",
      "20, 60 : 0.054\n",
      "20, 70 : 0.054\n",
      "20, 80 : 0.054\n",
      "20, 90 : 0.054\n",
      "20, 100 : 0.054\n",
      "20, 110 : 0.054\n",
      "20, 120 : 0.054\n",
      "20, 130 : 0.054\n",
      "20, 140 : 0.054\n",
      "20, 150 : 0.054\n",
      "20, 160 : 0.054\n",
      "20, 170 : 0.054\n",
      "20, 180 : 0.054\n",
      "20, 190 : 0.054\n",
      "20, 200 : 0.054\n",
      "25, 10 : 0.06\n",
      "25, 20 : 0.057\n",
      "25, 30 : 0.055\n",
      "25, 40 : 0.055\n",
      "25, 50 : 0.054\n",
      "25, 60 : 0.054\n",
      "25, 70 : 0.054\n",
      "25, 80 : 0.054\n",
      "25, 90 : 0.054\n",
      "25, 100 : 0.054\n",
      "25, 110 : 0.054\n",
      "25, 120 : 0.054\n",
      "25, 130 : 0.054\n",
      "25, 140 : 0.054\n",
      "25, 150 : 0.054\n",
      "25, 160 : 0.054\n",
      "25, 170 : 0.054\n",
      "25, 180 : 0.054\n",
      "25, 190 : 0.054\n",
      "25, 200 : 0.054\n"
     ]
    }
   ],
   "source": [
    "for m in [10, 15, 20, 25]:\n",
    "    for r in range(10, 201, 10):\n",
    "        \n",
    "        rfr = RandomForestRegressor(n_estimators=r,max_depth=m ,random_state=1, n_jobs=-1)\n",
    "        rfr.fit(X_train, y_train)\n",
    "\n",
    "        y_pred = rfr.predict(X_val)\n",
    "\n",
    "        rmse = mean_squared_error(y_val, y_pred)\n",
    "\n",
    "        print(f\"{m}, {r} : {rmse.round(3)}\")"
   ]
  },
  {
   "cell_type": "markdown",
   "id": "ee0f2324",
   "metadata": {},
   "source": [
    "### Answer 4 - The best max_depth is 10."
   ]
  },
  {
   "cell_type": "markdown",
   "id": "d88b90ba",
   "metadata": {},
   "source": [
    "### Question 5\n",
    "We can extract feature importance information from tree-based models.\n",
    "\n",
    "At each step of the decision tree learning algorith, it finds the best split. When doint it, we can calculate \"gain\" - the reduction in impurity before and after the split. This gain is quite useful in understanding what are the imporatant features for tree-based models.\n",
    "\n",
    "In Scikit-Learn, tree-based models contain this information in the feature_importances_ field.\n",
    "\n",
    "For this homework question, we'll find the most important feature:\n",
    "\n",
    "Train the model with these parametes:\n",
    "* n_estimators=10,\n",
    "* max_depth=20,\n",
    "* random_state=1,\n",
    "* n_jobs=-1 (optional)\n",
    "\n",
    "Get the feature importance information from this model\n",
    "* What's the most important feature?\n",
    "\n",
    "    * total_rooms\n",
    "    * median_income\n",
    "    * total_bedrooms\n",
    "    * longitude"
   ]
  },
  {
   "cell_type": "code",
   "execution_count": 124,
   "id": "47b05ef8",
   "metadata": {},
   "outputs": [
    {
     "name": "stdout",
     "output_type": "stream",
     "text": [
      "{('total_bedrooms', 0.364), ('median_house_value', 0.0), ('population', 0.003), ('total_rooms', 0.097), ('households', 0.311), ('latitude', 0.017), ('housing_median_age', 0.101), ('ocean_proximity', 0.004), ('median_income', 0.0), ('longitude', 0.033)}\n"
     ]
    }
   ],
   "source": [
    "rfr = RandomForestRegressor(n_estimators=10, max_depth=20, random_state=1, n_jobs=-1)\n",
    "rfr.fit(X_train, y_train)\n",
    "l = zip(cols, list(rfr.feature_importances_.round(3)))\n",
    "print(set(l))"
   ]
  },
  {
   "cell_type": "markdown",
   "id": "28a73e8d",
   "metadata": {},
   "source": [
    "### Answer 5 - The most important feature is total_bedrooms"
   ]
  },
  {
   "cell_type": "markdown",
   "id": "e073d7b1",
   "metadata": {},
   "source": [
    "### Question 6\n",
    "Now let's train an XGBoost model! For this question, we'll tune the eta parameter:\n",
    "\n",
    "* Install XGBoost\n",
    "* Create DMatrix for train and validation\n",
    "* Create a watchlist\n",
    "* Train a model with these parameters for 100 rounds:\n",
    "    * xgb_params = {\n",
    "    'eta': 0.3, \n",
    "    'max_depth': 6,\n",
    "    'min_child_weight': 1,\n",
    "    \n",
    "    'objective': 'reg:squarederror',\n",
    "    'nthread': 8,\n",
    "    \n",
    "    'seed': 1,\n",
    "    'verbosity': 1,\n",
    "    }\n",
    "* Now change eta from 0.3 to 0.1.\n",
    "\n",
    "* Which eta leads to the best RMSE score on the validation dataset?\n",
    "\n",
    "    * 0.3\n",
    "    * 0.1\n",
    "    * Both gives same"
   ]
  },
  {
   "cell_type": "code",
   "execution_count": 125,
   "id": "ce856784",
   "metadata": {},
   "outputs": [
    {
     "name": "stdout",
     "output_type": "stream",
     "text": [
      "Defaulting to user installation because normal site-packages is not writeable\n",
      "Requirement already satisfied: xgboost in c:\\users\\91635\\appdata\\roaming\\python\\python39\\site-packages (1.6.2)\n",
      "Requirement already satisfied: scipy in c:\\programdata\\anaconda3\\lib\\site-packages (from xgboost) (1.7.3)\n",
      "Requirement already satisfied: numpy in c:\\programdata\\anaconda3\\lib\\site-packages (from xgboost) (1.21.5)\n"
     ]
    }
   ],
   "source": [
    "!pip install xgboost"
   ]
  },
  {
   "cell_type": "code",
   "execution_count": 126,
   "id": "4196d5bc",
   "metadata": {},
   "outputs": [],
   "source": [
    "import xgboost as xgb"
   ]
  },
  {
   "cell_type": "code",
   "execution_count": 127,
   "id": "32dde949",
   "metadata": {},
   "outputs": [],
   "source": [
    "dtrain = xgb.DMatrix(X_train, label = y_train)\n",
    "dval = xgb.DMatrix(X_val, label=y_val)"
   ]
  },
  {
   "cell_type": "code",
   "execution_count": 128,
   "id": "4dde4b28",
   "metadata": {},
   "outputs": [],
   "source": [
    "watchlist = [(dtrain, 'train'), (dval, 'val')]"
   ]
  },
  {
   "cell_type": "code",
   "execution_count": 129,
   "id": "4a17d38b",
   "metadata": {},
   "outputs": [],
   "source": [
    "%%capture output\n",
    "\n",
    "xgb_params = { 'eta': 0.3, 'max_depth': 6, 'min_child_weight': 1,\n",
    "\n",
    "'objective': 'reg:squarederror', 'nthread': 8,\n",
    "\n",
    "'seed': 1, 'verbosity': 1, }\n",
    "\n",
    "model = xgb.train(xgb_params, dtrain, num_boost_round=100,\n",
    "                  evals=watchlist)"
   ]
  },
  {
   "cell_type": "code",
   "execution_count": 130,
   "id": "ce1b9202",
   "metadata": {},
   "outputs": [],
   "source": [
    "s = output.stdout"
   ]
  },
  {
   "cell_type": "code",
   "execution_count": 131,
   "id": "ab495a81",
   "metadata": {},
   "outputs": [
    {
     "name": "stdout",
     "output_type": "stream",
     "text": [
      "[0]\ttrain-rmse:8.12733\tval-rmse:8.13244\n",
      "[1]\ttrain-rmse:5.69586\tval-rmse:5.70069\n",
      "[2]\ttrain-rmse:3.99539\tval-rmse:4.00040\n",
      "[3]\ttrain-rmse:2.80712\tval-rmse:2.81078\n",
      "[4]\ttrain-rmse:1.97834\tval-rmse:1.98174\n",
      "[5]\ttrain-rmse:1.40218\tval-rmse:1.40740\n",
      "[6]\ttrain-rmse:1.00099\tval-rmse:1.00699\n",
      "[7]\ttrain-rmse:0.72751\tval-rmse:0.73438\n",
      "[8]\ttrain-rmse:0.54190\tval-rmse:0.55046\n",
      "[9]\ttrain-rmse:0.42167\tval-rmse:0.43233\n",
      "[10]\ttrain-rmse:0.34481\tval-rmse:0.35782\n",
      "[11]\ttrain-rmse:0.29835\tval-rmse:0.31360\n",
      "[12]\ttrain-rmse:0.27101\tval-rmse:0.28869\n",
      "[13]\ttrain-rmse:0.25275\tval-rmse:0.27343\n",
      "[14]\ttrain-rmse:0.24302\tval-rmse:0.26628\n",
      "[15]\ttrain-rmse:0.23575\tval-rmse:0.26099\n",
      "[16]\ttrain-rmse:0.23035\tval-rmse:0.25701\n",
      "[17]\ttrain-rmse:0.22594\tval-rmse:0.25389\n",
      "[18]\ttrain-rmse:0.22137\tval-rmse:0.24960\n",
      "[19]\ttrain-rmse:0.21743\tval-rmse:0.24699\n",
      "[20]\ttrain-rmse:0.21461\tval-rmse:0.24532\n",
      "[21]\ttrain-rmse:0.21240\tval-rmse:0.24460\n",
      "[22]\ttrain-rmse:0.21152\tval-rmse:0.24413\n",
      "[23]\ttrain-rmse:0.20834\tval-rmse:0.24287\n",
      "[24]\ttrain-rmse:0.20580\tval-rmse:0.24140\n",
      "[25]\ttrain-rmse:0.20356\tval-rmse:0.24033\n",
      "[26]\ttrain-rmse:0.20227\tval-rmse:0.24018\n",
      "[27]\ttrain-rmse:0.19993\tval-rmse:0.23902\n",
      "[28]\ttrain-rmse:0.19717\tval-rmse:0.23718\n",
      "[29]\ttrain-rmse:0.19599\tval-rmse:0.23702\n",
      "[30]\ttrain-rmse:0.19462\tval-rmse:0.23694\n",
      "[31]\ttrain-rmse:0.19317\tval-rmse:0.23708\n",
      "[32]\ttrain-rmse:0.19132\tval-rmse:0.23644\n",
      "[33]\ttrain-rmse:0.18956\tval-rmse:0.23540\n",
      "[34]\ttrain-rmse:0.18731\tval-rmse:0.23544\n",
      "[35]\ttrain-rmse:0.18687\tval-rmse:0.23540\n",
      "[36]\ttrain-rmse:0.18539\tval-rmse:0.23448\n",
      "[37]\ttrain-rmse:0.18399\tval-rmse:0.23400\n",
      "[38]\ttrain-rmse:0.18247\tval-rmse:0.23392\n",
      "[39]\ttrain-rmse:0.18158\tval-rmse:0.23373\n",
      "[40]\ttrain-rmse:0.18073\tval-rmse:0.23358\n",
      "[41]\ttrain-rmse:0.17922\tval-rmse:0.23343\n",
      "[42]\ttrain-rmse:0.17856\tval-rmse:0.23350\n",
      "[43]\ttrain-rmse:0.17774\tval-rmse:0.23348\n",
      "[44]\ttrain-rmse:0.17689\tval-rmse:0.23349\n",
      "[45]\ttrain-rmse:0.17626\tval-rmse:0.23331\n",
      "[46]\ttrain-rmse:0.17561\tval-rmse:0.23278\n",
      "[47]\ttrain-rmse:0.17486\tval-rmse:0.23274\n",
      "[48]\ttrain-rmse:0.17373\tval-rmse:0.23281\n",
      "[49]\ttrain-rmse:0.17250\tval-rmse:0.23285\n",
      "[50]\ttrain-rmse:0.17133\tval-rmse:0.23297\n",
      "[51]\ttrain-rmse:0.16985\tval-rmse:0.23260\n",
      "[52]\ttrain-rmse:0.16813\tval-rmse:0.23221\n",
      "[53]\ttrain-rmse:0.16732\tval-rmse:0.23218\n",
      "[54]\ttrain-rmse:0.16609\tval-rmse:0.23174\n",
      "[55]\ttrain-rmse:0.16535\tval-rmse:0.23169\n",
      "[56]\ttrain-rmse:0.16459\tval-rmse:0.23157\n",
      "[57]\ttrain-rmse:0.16395\tval-rmse:0.23130\n",
      "[58]\ttrain-rmse:0.16274\tval-rmse:0.23158\n",
      "[59]\ttrain-rmse:0.16107\tval-rmse:0.23117\n",
      "[60]\ttrain-rmse:0.16016\tval-rmse:0.23109\n",
      "[61]\ttrain-rmse:0.15957\tval-rmse:0.23112\n",
      "[62]\ttrain-rmse:0.15890\tval-rmse:0.23101\n",
      "[63]\ttrain-rmse:0.15815\tval-rmse:0.23094\n",
      "[64]\ttrain-rmse:0.15705\tval-rmse:0.23059\n",
      "[65]\ttrain-rmse:0.15691\tval-rmse:0.23059\n",
      "[66]\ttrain-rmse:0.15622\tval-rmse:0.23047\n",
      "[67]\ttrain-rmse:0.15543\tval-rmse:0.23041\n",
      "[68]\ttrain-rmse:0.15511\tval-rmse:0.23045\n",
      "[69]\ttrain-rmse:0.15426\tval-rmse:0.23071\n",
      "[70]\ttrain-rmse:0.15374\tval-rmse:0.23070\n",
      "[71]\ttrain-rmse:0.15321\tval-rmse:0.23056\n",
      "[72]\ttrain-rmse:0.15260\tval-rmse:0.23025\n",
      "[73]\ttrain-rmse:0.15203\tval-rmse:0.23021\n",
      "[74]\ttrain-rmse:0.15182\tval-rmse:0.23016\n",
      "[75]\ttrain-rmse:0.15076\tval-rmse:0.22975\n",
      "[76]\ttrain-rmse:0.15020\tval-rmse:0.22957\n",
      "[77]\ttrain-rmse:0.14947\tval-rmse:0.22965\n",
      "[78]\ttrain-rmse:0.14890\tval-rmse:0.22961\n",
      "[79]\ttrain-rmse:0.14813\tval-rmse:0.22957\n",
      "[80]\ttrain-rmse:0.14708\tval-rmse:0.22903\n",
      "[81]\ttrain-rmse:0.14676\tval-rmse:0.22889\n",
      "[82]\ttrain-rmse:0.14653\tval-rmse:0.22892\n",
      "[83]\ttrain-rmse:0.14599\tval-rmse:0.22893\n",
      "[84]\ttrain-rmse:0.14486\tval-rmse:0.22904\n",
      "[85]\ttrain-rmse:0.14429\tval-rmse:0.22911\n",
      "[86]\ttrain-rmse:0.14303\tval-rmse:0.22900\n",
      "[87]\ttrain-rmse:0.14235\tval-rmse:0.22880\n",
      "[88]\ttrain-rmse:0.14186\tval-rmse:0.22900\n",
      "[89]\ttrain-rmse:0.14079\tval-rmse:0.22866\n",
      "[90]\ttrain-rmse:0.14010\tval-rmse:0.22856\n",
      "[91]\ttrain-rmse:0.13963\tval-rmse:0.22834\n",
      "[92]\ttrain-rmse:0.13938\tval-rmse:0.22847\n",
      "[93]\ttrain-rmse:0.13895\tval-rmse:0.22841\n",
      "[94]\ttrain-rmse:0.13816\tval-rmse:0.22822\n",
      "[95]\ttrain-rmse:0.13773\tval-rmse:0.22823\n",
      "[96]\ttrain-rmse:0.13688\tval-rmse:0.22813\n",
      "[97]\ttrain-rmse:0.13642\tval-rmse:0.22812\n",
      "[98]\ttrain-rmse:0.13593\tval-rmse:0.22806\n",
      "[99]\ttrain-rmse:0.13522\tval-rmse:0.22784\n",
      "\n"
     ]
    }
   ],
   "source": [
    "print(s)"
   ]
  },
  {
   "cell_type": "code",
   "execution_count": 132,
   "id": "3de59cd4",
   "metadata": {},
   "outputs": [],
   "source": [
    "def parse_xgb_output(output):\n",
    "    results = []\n",
    "\n",
    "    for line in output.stdout.strip().split('\\n'):\n",
    "        it_line, train_line, val_line = line.split('\\t')\n",
    "\n",
    "        it = int(it_line.strip('[]'))\n",
    "        train = float(train_line.split(':')[1])\n",
    "        val = float(val_line.split(':')[1])\n",
    "\n",
    "        results.append((it, train, val))\n",
    "    \n",
    "    columns = ['num_iter', 'train_rmse', 'val_rmse']\n",
    "    df_results = pd.DataFrame(results, columns=columns)\n",
    "    return df_results"
   ]
  },
  {
   "cell_type": "code",
   "execution_count": 133,
   "id": "8fe41838",
   "metadata": {},
   "outputs": [],
   "source": [
    "df_score = parse_xgb_output(output)"
   ]
  },
  {
   "cell_type": "code",
   "execution_count": 134,
   "id": "432d850c",
   "metadata": {},
   "outputs": [
    {
     "data": {
      "text/plain": [
       "<matplotlib.legend.Legend at 0x152ef5cc820>"
      ]
     },
     "execution_count": 134,
     "metadata": {},
     "output_type": "execute_result"
    },
    {
     "data": {
      "image/png": "[encoded data removed]",
      "text/plain": [
       "<Figure size 432x288 with 1 Axes>"
      ]
     },
     "metadata": {
      "needs_background": "light"
     },
     "output_type": "display_data"
    }
   ],
   "source": [
    "plt.plot(df_score.num_iter, df_score.train_rmse, label='train')\n",
    "plt.plot(df_score.num_iter, df_score.val_rmse, label='val')\n",
    "plt.legend()"
   ]
  },
  {
   "cell_type": "code",
   "execution_count": 135,
   "id": "49f8efba",
   "metadata": {},
   "outputs": [],
   "source": [
    "%%capture output\n",
    "\n",
    "xgb_params = { 'eta': 0.1, 'max_depth': 6, 'min_child_weight': 1,\n",
    "\n",
    "'objective': 'reg:squarederror', 'nthread': 8,\n",
    "\n",
    "'seed': 1, 'verbosity': 1, }\n",
    "\n",
    "model = xgb.train(xgb_params, dtrain, num_boost_round=100,\n",
    "                  evals=watchlist)"
   ]
  },
  {
   "cell_type": "code",
   "execution_count": 136,
   "id": "a4760f37",
   "metadata": {},
   "outputs": [
    {
     "name": "stdout",
     "output_type": "stream",
     "text": [
      "[0]\ttrain-rmse:10.44371\tval-rmse:10.44937\n",
      "[1]\ttrain-rmse:9.40118\tval-rmse:9.40684\n",
      "[2]\ttrain-rmse:8.46290\tval-rmse:8.46830\n",
      "[3]\ttrain-rmse:7.61859\tval-rmse:7.62390\n",
      "[4]\ttrain-rmse:6.85878\tval-rmse:6.86366\n",
      "[5]\ttrain-rmse:6.17511\tval-rmse:6.17976\n",
      "[6]\ttrain-rmse:5.55996\tval-rmse:5.56444\n",
      "[7]\ttrain-rmse:5.00644\tval-rmse:5.01079\n",
      "[8]\ttrain-rmse:4.50846\tval-rmse:4.51263\n",
      "[9]\ttrain-rmse:4.06044\tval-rmse:4.06456\n",
      "[10]\ttrain-rmse:3.65747\tval-rmse:3.66144\n",
      "[11]\ttrain-rmse:3.29493\tval-rmse:3.29852\n",
      "[12]\ttrain-rmse:2.96890\tval-rmse:2.97268\n",
      "[13]\ttrain-rmse:2.67580\tval-rmse:2.67960\n",
      "[14]\ttrain-rmse:2.41209\tval-rmse:2.41607\n",
      "[15]\ttrain-rmse:2.17503\tval-rmse:2.17860\n",
      "[16]\ttrain-rmse:1.96209\tval-rmse:1.96592\n",
      "[17]\ttrain-rmse:1.77071\tval-rmse:1.77456\n",
      "[18]\ttrain-rmse:1.59876\tval-rmse:1.60289\n",
      "[19]\ttrain-rmse:1.44451\tval-rmse:1.44902\n",
      "[20]\ttrain-rmse:1.30614\tval-rmse:1.31096\n",
      "[21]\ttrain-rmse:1.18108\tval-rmse:1.18618\n",
      "[22]\ttrain-rmse:1.06956\tval-rmse:1.07525\n",
      "[23]\ttrain-rmse:0.96911\tval-rmse:0.97509\n",
      "[24]\ttrain-rmse:0.87978\tval-rmse:0.88635\n",
      "[25]\ttrain-rmse:0.79938\tval-rmse:0.80638\n",
      "[26]\ttrain-rmse:0.72821\tval-rmse:0.73578\n",
      "[27]\ttrain-rmse:0.66395\tval-rmse:0.67208\n",
      "[28]\ttrain-rmse:0.60709\tval-rmse:0.61568\n",
      "[29]\ttrain-rmse:0.55685\tval-rmse:0.56641\n",
      "[30]\ttrain-rmse:0.51253\tval-rmse:0.52303\n",
      "[31]\ttrain-rmse:0.47316\tval-rmse:0.48447\n",
      "[32]\ttrain-rmse:0.43782\tval-rmse:0.44991\n",
      "[33]\ttrain-rmse:0.40712\tval-rmse:0.42031\n",
      "[34]\ttrain-rmse:0.38065\tval-rmse:0.39480\n",
      "[35]\ttrain-rmse:0.35720\tval-rmse:0.37261\n",
      "[36]\ttrain-rmse:0.33659\tval-rmse:0.35312\n",
      "[37]\ttrain-rmse:0.31902\tval-rmse:0.33635\n",
      "[38]\ttrain-rmse:0.30371\tval-rmse:0.32222\n",
      "[39]\ttrain-rmse:0.29060\tval-rmse:0.31031\n",
      "[40]\ttrain-rmse:0.27985\tval-rmse:0.30045\n",
      "[41]\ttrain-rmse:0.27021\tval-rmse:0.29199\n",
      "[42]\ttrain-rmse:0.26137\tval-rmse:0.28407\n",
      "[43]\ttrain-rmse:0.25433\tval-rmse:0.27804\n",
      "[44]\ttrain-rmse:0.24856\tval-rmse:0.27300\n",
      "[45]\ttrain-rmse:0.24347\tval-rmse:0.26852\n",
      "[46]\ttrain-rmse:0.23911\tval-rmse:0.26488\n",
      "[47]\ttrain-rmse:0.23511\tval-rmse:0.26142\n",
      "[48]\ttrain-rmse:0.23143\tval-rmse:0.25823\n",
      "[49]\ttrain-rmse:0.22841\tval-rmse:0.25593\n",
      "[50]\ttrain-rmse:0.22580\tval-rmse:0.25398\n",
      "[51]\ttrain-rmse:0.22404\tval-rmse:0.25252\n",
      "[52]\ttrain-rmse:0.22125\tval-rmse:0.25028\n",
      "[53]\ttrain-rmse:0.21948\tval-rmse:0.24879\n",
      "[54]\ttrain-rmse:0.21759\tval-rmse:0.24720\n",
      "[55]\ttrain-rmse:0.21595\tval-rmse:0.24586\n",
      "[56]\ttrain-rmse:0.21416\tval-rmse:0.24513\n",
      "[57]\ttrain-rmse:0.21298\tval-rmse:0.24424\n",
      "[58]\ttrain-rmse:0.21211\tval-rmse:0.24355\n",
      "[59]\ttrain-rmse:0.21075\tval-rmse:0.24284\n",
      "[60]\ttrain-rmse:0.21000\tval-rmse:0.24224\n",
      "[61]\ttrain-rmse:0.20879\tval-rmse:0.24196\n",
      "[62]\ttrain-rmse:0.20778\tval-rmse:0.24126\n",
      "[63]\ttrain-rmse:0.20709\tval-rmse:0.24082\n",
      "[64]\ttrain-rmse:0.20664\tval-rmse:0.24066\n",
      "[65]\ttrain-rmse:0.20538\tval-rmse:0.24053\n",
      "[66]\ttrain-rmse:0.20472\tval-rmse:0.24038\n",
      "[67]\ttrain-rmse:0.20377\tval-rmse:0.23969\n",
      "[68]\ttrain-rmse:0.20325\tval-rmse:0.23943\n",
      "[69]\ttrain-rmse:0.20288\tval-rmse:0.23926\n",
      "[70]\ttrain-rmse:0.20225\tval-rmse:0.23893\n",
      "[71]\ttrain-rmse:0.20135\tval-rmse:0.23836\n",
      "[72]\ttrain-rmse:0.20109\tval-rmse:0.23829\n",
      "[73]\ttrain-rmse:0.20007\tval-rmse:0.23782\n",
      "[74]\ttrain-rmse:0.19952\tval-rmse:0.23765\n",
      "[75]\ttrain-rmse:0.19884\tval-rmse:0.23720\n",
      "[76]\ttrain-rmse:0.19779\tval-rmse:0.23699\n",
      "[77]\ttrain-rmse:0.19691\tval-rmse:0.23674\n",
      "[78]\ttrain-rmse:0.19633\tval-rmse:0.23645\n",
      "[79]\ttrain-rmse:0.19608\tval-rmse:0.23640\n",
      "[80]\ttrain-rmse:0.19554\tval-rmse:0.23622\n",
      "[81]\ttrain-rmse:0.19490\tval-rmse:0.23593\n",
      "[82]\ttrain-rmse:0.19425\tval-rmse:0.23556\n",
      "[83]\ttrain-rmse:0.19345\tval-rmse:0.23532\n",
      "[84]\ttrain-rmse:0.19286\tval-rmse:0.23511\n",
      "[85]\ttrain-rmse:0.19216\tval-rmse:0.23508\n",
      "[86]\ttrain-rmse:0.19147\tval-rmse:0.23488\n",
      "[87]\ttrain-rmse:0.19027\tval-rmse:0.23418\n",
      "[88]\ttrain-rmse:0.18961\tval-rmse:0.23405\n",
      "[89]\ttrain-rmse:0.18931\tval-rmse:0.23398\n",
      "[90]\ttrain-rmse:0.18863\tval-rmse:0.23364\n",
      "[91]\ttrain-rmse:0.18819\tval-rmse:0.23352\n",
      "[92]\ttrain-rmse:0.18777\tval-rmse:0.23339\n",
      "[93]\ttrain-rmse:0.18747\tval-rmse:0.23326\n",
      "[94]\ttrain-rmse:0.18689\tval-rmse:0.23314\n",
      "[95]\ttrain-rmse:0.18633\tval-rmse:0.23297\n",
      "[96]\ttrain-rmse:0.18566\tval-rmse:0.23299\n",
      "[97]\ttrain-rmse:0.18529\tval-rmse:0.23290\n",
      "[98]\ttrain-rmse:0.18480\tval-rmse:0.23275\n",
      "[99]\ttrain-rmse:0.18415\tval-rmse:0.23245\n",
      "\n"
     ]
    }
   ],
   "source": [
    "s = output.stdout\n",
    "print(s)"
   ]
  },
  {
   "cell_type": "code",
   "execution_count": 137,
   "id": "117860c7",
   "metadata": {},
   "outputs": [
    {
     "data": {
      "text/plain": [
       "<matplotlib.legend.Legend at 0x152dfdbd100>"
      ]
     },
     "execution_count": 137,
     "metadata": {},
     "output_type": "execute_result"
    },
    {
     "data": {
      "image/png": "[encoded data removed]",
      "text/plain": [
       "<Figure size 432x288 with 1 Axes>"
      ]
     },
     "metadata": {
      "needs_background": "light"
     },
     "output_type": "display_data"
    }
   ],
   "source": [
    "df_score = parse_xgb_output(output)\n",
    "plt.plot(df_score.num_iter, df_score.train_rmse, label='train')\n",
    "plt.plot(df_score.num_iter, df_score.val_rmse, label='val')\n",
    "plt.legend()"
   ]
  },
  {
   "cell_type": "markdown",
   "id": "7bee9776",
   "metadata": {},
   "source": [
    "### Answer 6 - The best RMSE score is for eta=0.1"
   ]
  },
  {
   "cell_type": "code",
   "execution_count": null,
   "id": "aa337d3e",
   "metadata": {},
   "outputs": [],
   "source": []
  }
 ],
 "metadata": {
  "kernelspec": {
   "display_name": "Python 3 (ipykernel)",
   "language": "python",
   "name": "python3"
  },
  "language_info": {
   "codemirror_mode": {
    "name": "ipython",
    "version": 3
   },
   "file_extension": ".py",
   "mimetype": "text/x-python",
   "name": "python",
   "nbconvert_exporter": "python",
   "pygments_lexer": "ipython3",
   "version": "3.9.12"
  }
 },
 "nbformat": 4,
 "nbformat_minor": 5
}
